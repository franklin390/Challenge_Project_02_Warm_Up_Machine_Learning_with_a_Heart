{
 "cells": [
  {
   "cell_type": "markdown",
   "metadata": {
    "colab_type": "text",
    "id": "FBjCWCgKShNL"
   },
   "source": [
    "# **Challenge Project 02 - Warm Up: Machine Learning with a Heart**\n",
    "\n",
    "*29 de março, 2020*"
   ]
  },
  {
   "cell_type": "markdown",
   "metadata": {
    "colab_type": "text",
    "id": "ZyPZ6zGfSiBy"
   },
   "source": [
    "## **1. Descrição geral do problema**"
   ]
  },
  {
   "cell_type": "markdown",
   "metadata": {
    "colab_type": "text",
    "id": "ncznjluGS4NE"
   },
   "source": [
    "---\n",
    "\n",
    "![Heart](https://cdn-images-1.medium.com/max/1000/1*6WGnPZ5lkiT2QgK-JP1DFw.png)\n",
    "\n",
    "As doenças cardíacas são a [principal causa de morte no mundo](https://www.world-heart-federation.org/resources/cardiovascular-diseases-cvds-global-facts-figures/). Para aprender a prevenir doenças cardíacas, precisamos primeiro aprender a detectá-las com segurança.\n",
    "\n",
    "Nosso conjunto de dados é de um estudo de doenças cardíacas que está aberto ao público há muitos anos. O estudo coleta várias medidas sobre a saúde do paciente e as estatísticas cardiovasculares e, é claro, torna as identidades dos pacientes anônimas.\n",
    "\n",
    "Os dados são fornecidos como cortesia do [Cleveland Heart Disease Database](http://archive.ics.uci.edu/ml/datasets/statlog+(heart)) através do repositório UCI Machine Learning.\n",
    "\n",
    "Prevenir doenças cardíacas é importante. Bons sistemas orientados a dados para prever doenças cardíacas podem melhorar todo o processo de pesquisa e prevenção, garantindo que mais pessoas possam ter uma vida saudável.\n",
    "\n",
    "Nos Estados Unidos, os Centros de Controle e Prevenção de Doenças são um bom recurso para obter informações sobre doenças cardíacas. De acordo com [o site](https://www.cdc.gov/heartdisease/facts.htm):\n",
    "\n",
    "* Cerca de 610.000 pessoas morrem de doenças cardíacas nos Estados Unidos a cada ano - isso é 1 em cada 4 mortes.\n",
    "* As doenças cardíacas são a principal causa de morte para homens e mulheres. Mais da metade das mortes por doenças cardíacas em 2009 ocorreram em homens.\n",
    "* A doença cardíaca coronária (DCC) é o tipo mais comum de doença cardíaca, matando mais de 370.000 pessoas anualmente.\n",
    "* Todos os anos, cerca de 735.000 americanos sofrem um ataque cardíaco. Destes, 525.000 são um primeiro ataque cardíaco e 210.000 ocorrem em pessoas que já tiveram um ataque cardíaco.\n",
    "* As doenças cardíacas são a principal causa de morte para pessoas da maioria das etnias dos Estados Unidos, incluindo afro-americanos, hispânicos e brancos. Para índios americanos ou nativos do Alasca e asiáticos ou ilhéus do Pacífico, as doenças cardíacas perdem apenas para o câncer.\n",
    "\n",
    "Para obter mais informações, consulte o site dos [centros de controle e prevenção de doenças](https://www.cdc.gov/heartdisease/prevention.htm).\n",
    "\n",
    "\n",
    "**Objetivo:**  prever a classe ***binária heart_disease_present***, que representa se um paciente tem ou não uma doença cardíaca utilizando para a avaliação de desempenho dos modelos preditivos a serem criados a métrica [Logloss](https://en.wikipedia.org/wiki/Loss_functions_for_classification#Cross_entropy_loss_(Log_Loss)).\n",
    "\n",
    "---"
   ]
  },
  {
   "cell_type": "markdown",
   "metadata": {
    "colab_type": "text",
    "id": "AF_6d1xG1ptL"
   },
   "source": [
    "## **2. Carregando Dados**"
   ]
  },
  {
   "cell_type": "markdown",
   "metadata": {
    "colab_type": "text",
    "id": "2RLnXbWM10SQ"
   },
   "source": [
    "### **2.1 Importando bibliotecas necessárias**"
   ]
  },
  {
   "cell_type": "markdown",
   "metadata": {
    "colab_type": "text",
    "id": "uFhyGsV-25cb"
   },
   "source": [
    "Vamos começar nosso projeto importanto todas as bilbiotecas necessárias para a realização das fases iniciais de exploração e transformação dos dados (*Data Munging*)."
   ]
  },
  {
   "cell_type": "code",
   "execution_count": null,
   "metadata": {
    "colab": {
     "base_uri": "https://localhost:8080/",
     "height": 119
    },
    "colab_type": "code",
    "id": "wky_Wp6dRAZU",
    "outputId": "a3aa1fc7-1a84-47a6-a074-27dd5ad70dc3"
   },
   "outputs": [],
   "source": [
    "# Definindo a oculatação de warnings.\n",
    "\n",
    "options(warn = -1)\n",
    "\n",
    "# Caso não possua uma das bibliotecas importadas abaixo, a instale com o comando a seguir:\n",
    "\n",
    "install.packages(c(\n",
    "    'dplyr',\n",
    "    'corrplot',\n",
    "    'ggplot2',\n",
    "    'gmodels',\n",
    "    'vcd',\n",
    "    'pROC',\n",
    "    'e1071'\n",
    "))"
   ]
  },
  {
   "cell_type": "code",
   "execution_count": 125,
   "metadata": {
    "colab": {
     "base_uri": "https://localhost:8080/",
     "height": 595
    },
    "colab_type": "code",
    "id": "Y7kiQBAjJj-o",
    "outputId": "3ccbdd6e-aca4-4fab-cb01-0cfec26fd2de"
   },
   "outputs": [],
   "source": [
    "# Importando bibliotecas.\n",
    "\n",
    "library(dplyr)\n",
    "library(corrplot)\n",
    "library(ggplot2)\n",
    "library(gmodels)\n",
    "library(vcd)\n",
    "library(pROC)\n",
    "library(e1071)"
   ]
  },
  {
   "cell_type": "markdown",
   "metadata": {
    "colab_type": "text",
    "id": "D2fM9XuSgdi3"
   },
   "source": [
    "### **2.2 Carregando dados**"
   ]
  },
  {
   "cell_type": "code",
   "execution_count": 126,
   "metadata": {
    "colab": {
     "base_uri": "https://localhost:8080/",
     "height": 204
    },
    "colab_type": "code",
    "id": "jv646V4lLC7I",
    "outputId": "aa9e208c-f706-41e4-d19d-5da7ba26b531"
   },
   "outputs": [
    {
     "data": {
      "text/html": [
       "<table>\n",
       "<thead><tr><th scope=col>V1</th><th scope=col>V2</th><th scope=col>V3</th><th scope=col>V4</th><th scope=col>V5</th><th scope=col>V6</th><th scope=col>V7</th><th scope=col>V8</th><th scope=col>V9</th><th scope=col>V10</th><th scope=col>V11</th><th scope=col>V12</th><th scope=col>V13</th><th scope=col>V14</th></tr></thead>\n",
       "<tbody>\n",
       "\t<tr><td>70 </td><td>1  </td><td>4  </td><td>130</td><td>322</td><td>0  </td><td>2  </td><td>109</td><td>0  </td><td>2.4</td><td>2  </td><td>3  </td><td>3  </td><td>2  </td></tr>\n",
       "\t<tr><td>67 </td><td>0  </td><td>3  </td><td>115</td><td>564</td><td>0  </td><td>2  </td><td>160</td><td>0  </td><td>1.6</td><td>2  </td><td>0  </td><td>7  </td><td>1  </td></tr>\n",
       "\t<tr><td>57 </td><td>1  </td><td>2  </td><td>124</td><td>261</td><td>0  </td><td>0  </td><td>141</td><td>0  </td><td>0.3</td><td>1  </td><td>0  </td><td>7  </td><td>2  </td></tr>\n",
       "\t<tr><td>64 </td><td>1  </td><td>4  </td><td>128</td><td>263</td><td>0  </td><td>0  </td><td>105</td><td>1  </td><td>0.2</td><td>2  </td><td>1  </td><td>7  </td><td>1  </td></tr>\n",
       "\t<tr><td>74 </td><td>0  </td><td>2  </td><td>120</td><td>269</td><td>0  </td><td>2  </td><td>121</td><td>1  </td><td>0.2</td><td>1  </td><td>1  </td><td>3  </td><td>1  </td></tr>\n",
       "\t<tr><td>65 </td><td>1  </td><td>4  </td><td>120</td><td>177</td><td>0  </td><td>0  </td><td>140</td><td>0  </td><td>0.4</td><td>1  </td><td>0  </td><td>7  </td><td>1  </td></tr>\n",
       "</tbody>\n",
       "</table>\n"
      ],
      "text/latex": [
       "\\begin{tabular}{r|llllllllllllll}\n",
       " V1 & V2 & V3 & V4 & V5 & V6 & V7 & V8 & V9 & V10 & V11 & V12 & V13 & V14\\\\\n",
       "\\hline\n",
       "\t 70  & 1   & 4   & 130 & 322 & 0   & 2   & 109 & 0   & 2.4 & 2   & 3   & 3   & 2  \\\\\n",
       "\t 67  & 0   & 3   & 115 & 564 & 0   & 2   & 160 & 0   & 1.6 & 2   & 0   & 7   & 1  \\\\\n",
       "\t 57  & 1   & 2   & 124 & 261 & 0   & 0   & 141 & 0   & 0.3 & 1   & 0   & 7   & 2  \\\\\n",
       "\t 64  & 1   & 4   & 128 & 263 & 0   & 0   & 105 & 1   & 0.2 & 2   & 1   & 7   & 1  \\\\\n",
       "\t 74  & 0   & 2   & 120 & 269 & 0   & 2   & 121 & 1   & 0.2 & 1   & 1   & 3   & 1  \\\\\n",
       "\t 65  & 1   & 4   & 120 & 177 & 0   & 0   & 140 & 0   & 0.4 & 1   & 0   & 7   & 1  \\\\\n",
       "\\end{tabular}\n"
      ],
      "text/markdown": [
       "\n",
       "| V1 | V2 | V3 | V4 | V5 | V6 | V7 | V8 | V9 | V10 | V11 | V12 | V13 | V14 |\n",
       "|---|---|---|---|---|---|---|---|---|---|---|---|---|---|\n",
       "| 70  | 1   | 4   | 130 | 322 | 0   | 2   | 109 | 0   | 2.4 | 2   | 3   | 3   | 2   |\n",
       "| 67  | 0   | 3   | 115 | 564 | 0   | 2   | 160 | 0   | 1.6 | 2   | 0   | 7   | 1   |\n",
       "| 57  | 1   | 2   | 124 | 261 | 0   | 0   | 141 | 0   | 0.3 | 1   | 0   | 7   | 2   |\n",
       "| 64  | 1   | 4   | 128 | 263 | 0   | 0   | 105 | 1   | 0.2 | 2   | 1   | 7   | 1   |\n",
       "| 74  | 0   | 2   | 120 | 269 | 0   | 2   | 121 | 1   | 0.2 | 1   | 1   | 3   | 1   |\n",
       "| 65  | 1   | 4   | 120 | 177 | 0   | 0   | 140 | 0   | 0.4 | 1   | 0   | 7   | 1   |\n",
       "\n"
      ],
      "text/plain": [
       "  V1 V2 V3 V4  V5  V6 V7 V8  V9 V10 V11 V12 V13 V14\n",
       "1 70 1  4  130 322 0  2  109 0  2.4 2   3   3   2  \n",
       "2 67 0  3  115 564 0  2  160 0  1.6 2   0   7   1  \n",
       "3 57 1  2  124 261 0  0  141 0  0.3 1   0   7   2  \n",
       "4 64 1  4  128 263 0  0  105 1  0.2 2   1   7   1  \n",
       "5 74 0  2  120 269 0  2  121 1  0.2 1   1   3   1  \n",
       "6 65 1  4  120 177 0  0  140 0  0.4 1   0   7   1  "
      ]
     },
     "metadata": {},
     "output_type": "display_data"
    }
   ],
   "source": [
    "# Importando os dados do dataset.\n",
    "\n",
    "dataset <- read.table(\"content/datasets/heart.dat\")\n",
    "\n",
    "# Visualizando dados Importados. \n",
    "\n",
    "head(dataset)"
   ]
  },
  {
   "cell_type": "code",
   "execution_count": 127,
   "metadata": {
    "colab": {},
    "colab_type": "code",
    "id": "yj8ZeshxRCTL"
   },
   "outputs": [],
   "source": [
    "# Renomeando colunas do dataset.\n",
    "\n",
    "names(dataset) <- c('age', 'sex', \n",
    "                  'chest_pain_type', \n",
    "                  'resting_blood_pressure', \n",
    "                  'serum_cholestoral', \n",
    "                  'fasting_blood_sugar',\n",
    "                  'resting_electro_results',\n",
    "                  'max_heart_rate_achieved',\n",
    "                  'exercise_induced_angina',\n",
    "                  'oldpeak',\n",
    "                  'slope_of_the_peak',\n",
    "                  'number_of_major_vessels',\n",
    "                  'thal',\n",
    "                  'heart_disease')"
   ]
  },
  {
   "cell_type": "code",
   "execution_count": 221,
   "metadata": {
    "colab": {},
    "colab_type": "code",
    "id": "uCJkpq5EJ8zF"
   },
   "outputs": [],
   "source": [
    "# Criando uma cópia do dataset.\n",
    "\n",
    "data <- dataset"
   ]
  },
  {
   "cell_type": "markdown",
   "metadata": {
    "colab_type": "text",
    "id": "pztbIHwbLMyr"
   },
   "source": [
    "## **3. Data Munging I - Preparando dados para a análise exploratória**"
   ]
  },
  {
   "cell_type": "markdown",
   "metadata": {
    "colab_type": "text",
    "id": "anNGlYBoXhkg"
   },
   "source": [
    "### **3.1 Visão geral dos dados**"
   ]
  },
  {
   "cell_type": "markdown",
   "metadata": {
    "colab_type": "text",
    "id": "50nUe58igfmS"
   },
   "source": [
    "Segundo as documentações do [DrivenData](https://www.drivendata.org/competitions/54/machine-learning-with-a-heart/page/108/) e da [UCI Machine Learning Repository](http://archive.ics.uci.edu/ml/datasets/statlog+(heart)) referente ao projeto, cada linha dos dados contém um registro, com as seguintes variáveis:\n",
    "\n",
    "| Variável                                 | Tipo         | Descrição                                                                            |\n",
    "|:-----------------------------------------|:-------------|:-------------------------------------------------------------------------------------|\n",
    "| **heart_disease (Target)**               | *binário*    | representa se um paciente tem ou não uma doença cardíaca (**0**: apresenta doença cardíaca, **1**: não apresenta doença cardíaca);                                                                                                                  |\n",
    "| **slope_of_peak**                        | *int*        | é a inclinação do [segmento ST](https://en.wikipedia.org/wiki/ST_segment) do pico do exercício, uma eletrocardiografia lida indicando a qualidade do fluxo sanguíneo no coração;                                                                     |\n",
    "| **thal**                                 | *categórico* | são os resultados do [teste de stress com tálio](https://www.ucsfbenioffchildrens.org/tests/007201.html) para o fluxo sanguíneo de medição para o coração, com os valores possíveis: ***normal***, ***fixed_defect***, ***reversible_defect***;     |\n",
    "| **resting_blood_pressure**               | *int*        | é a pressão arterial em repouso;                                                     |\n",
    "| **chest_pain_type**                      | *int*        | é o tipo de dor no peito (1-4);                                                      |\n",
    "| **number_major_vessels**                 | *int*        | é o número de vasos principais (0-3) coloridos por *flourosopy*;                     |\n",
    "| **fasting_blood_sugar**                  | *binário*    | indica se o açúcar no sangue em jejum é > 120 *mg/dl*;                               |\n",
    "| **resting_electro_results**              | *int*        | são os resultados eletrocardiográficos em repouso (0-2);                             |\n",
    "| **serum_cholesterol**                    | *int*        | é o colestorol sérico em *mg/dl*;                                                    |\n",
    "| **oldpeak**                              | *float*      | oldpeak = [depressão do ST](https://en.wikipedia.org/wiki/ST_depression) induzida pelo exercício em relação ao repouso, é uma medida de anormalidade nos eletrocardiogramas;                                                                         |\n",
    "| **sex**                                  | *binário*    | indica o sexo do paciente (**0**: feminino, **1**: masculino);                       |\n",
    "| **age**                                  | *int*        | indica a idade em anos do paciente;                                                  |\n",
    "| **max_heart_rate_achieved**              | *int*        | é a frequência cardíaca máxima atingida (batimentos por minuto) e;                   |\n",
    "| **exercise_induced_angina**              | *binário*    | indica se há dor no peito induzida por exercícios ( **0**: falso, **1**: verdadeiro).|\n",
    "\n",
    "Nesta etapa vamos buscar organizar os dados das variáveis para efetuar a análise exploratória e extrair insigths que possam auxiliar no processo de criação dos modelos preditivos. "
   ]
  },
  {
   "cell_type": "code",
   "execution_count": 129,
   "metadata": {
    "colab": {
     "base_uri": "https://localhost:8080/",
     "height": 289
    },
    "colab_type": "code",
    "id": "8zKw9b1CX7OF",
    "outputId": "2adcf5c9-a794-4d88-ac4d-adc4f06e8965"
   },
   "outputs": [
    {
     "name": "stdout",
     "output_type": "stream",
     "text": [
      "Observations: 270\n",
      "Variables: 14\n",
      "$ age                     <dbl> 70, 67, 57, 64, 74, 65, 56, 59, 60, 63, 59,...\n",
      "$ sex                     <dbl> 1, 0, 1, 1, 0, 1, 1, 1, 1, 0, 1, 1, 1, 1, 0...\n",
      "$ chest_pain_type         <dbl> 4, 3, 2, 4, 2, 4, 3, 4, 4, 4, 4, 4, 3, 1, 4...\n",
      "$ resting_blood_pressure  <dbl> 130, 115, 124, 128, 120, 120, 130, 110, 140...\n",
      "$ serum_cholestoral       <dbl> 322, 564, 261, 263, 269, 177, 256, 239, 293...\n",
      "$ fasting_blood_sugar     <dbl> 0, 0, 0, 0, 0, 0, 1, 0, 0, 0, 0, 0, 0, 0, 0...\n",
      "$ resting_electro_results <dbl> 2, 2, 0, 0, 2, 0, 2, 2, 2, 2, 0, 2, 2, 0, 2...\n",
      "$ max_heart_rate_achieved <dbl> 109, 160, 141, 105, 121, 140, 142, 142, 170...\n",
      "$ exercise_induced_angina <dbl> 0, 0, 0, 1, 1, 0, 1, 1, 0, 0, 0, 1, 0, 0, 0...\n",
      "$ oldpeak                 <dbl> 2.4, 1.6, 0.3, 0.2, 0.2, 0.4, 0.6, 1.2, 1.2...\n",
      "$ slope_of_the_peak       <dbl> 2, 2, 1, 2, 1, 1, 2, 2, 2, 2, 2, 1, 1, 2, 1...\n",
      "$ number_of_major_vessels <dbl> 3, 0, 0, 1, 1, 0, 1, 1, 2, 3, 0, 0, 0, 2, 1...\n",
      "$ thal                    <dbl> 3, 7, 7, 7, 3, 7, 6, 7, 7, 7, 7, 7, 3, 3, 3...\n",
      "$ heart_disease           <int> 2, 1, 2, 1, 1, 1, 2, 2, 2, 2, 1, 1, 1, 2, 1...\n"
     ]
    }
   ],
   "source": [
    "# Verificando os tipos das colunas carregadas no dataset.\n",
    "\n",
    "glimpse(data)"
   ]
  },
  {
   "cell_type": "markdown",
   "metadata": {
    "colab_type": "text",
    "id": "AS4KO07oYIM7"
   },
   "source": [
    "Verificamos a existência de **14 variáveis** numéricas e **270 observações** dentro do dataset."
   ]
  },
  {
   "cell_type": "code",
   "execution_count": 130,
   "metadata": {
    "colab": {
     "base_uri": "https://localhost:8080/",
     "height": 187
    },
    "colab_type": "code",
    "id": "EvfNIJkZYZBS",
    "outputId": "2cf9d29b-108a-40de-fb64-5d8f3abc3b50"
   },
   "outputs": [
    {
     "name": "stdout",
     "output_type": "stream",
     "text": [
      "                    age                     sex         chest_pain_type \n",
      "                  FALSE                   FALSE                   FALSE \n",
      " resting_blood_pressure       serum_cholestoral     fasting_blood_sugar \n",
      "                  FALSE                   FALSE                   FALSE \n",
      "resting_electro_results max_heart_rate_achieved exercise_induced_angina \n",
      "                  FALSE                   FALSE                   FALSE \n",
      "                oldpeak       slope_of_the_peak number_of_major_vessels \n",
      "                  FALSE                   FALSE                   FALSE \n",
      "                   thal           heart_disease \n",
      "                  FALSE                   FALSE \n"
     ]
    }
   ],
   "source": [
    "# Verificando a existência de valores NA no dataset.\n",
    "\n",
    "print(sapply(data, function(v) {\n",
    "    anyNA(v)\n",
    "}))"
   ]
  },
  {
   "cell_type": "markdown",
   "metadata": {
    "colab_type": "text",
    "id": "tMN06MwrYkHS"
   },
   "source": [
    "Não foi detectado nenhum valor *NA* dentro do conjunto de dados."
   ]
  },
  {
   "cell_type": "code",
   "execution_count": 131,
   "metadata": {
    "colab": {
     "base_uri": "https://localhost:8080/",
     "height": 187
    },
    "colab_type": "code",
    "id": "5yOlc5MTYoLi",
    "outputId": "f698a5a8-9199-496c-c2f3-a9aa3cab32fc"
   },
   "outputs": [
    {
     "name": "stdout",
     "output_type": "stream",
     "text": [
      "                    age                     sex         chest_pain_type \n",
      "                     41                       2                       4 \n",
      " resting_blood_pressure       serum_cholestoral     fasting_blood_sugar \n",
      "                     47                     144                       2 \n",
      "resting_electro_results max_heart_rate_achieved exercise_induced_angina \n",
      "                      3                      90                       2 \n",
      "                oldpeak       slope_of_the_peak number_of_major_vessels \n",
      "                     39                       3                       4 \n",
      "                   thal           heart_disease \n",
      "                      3                       2 \n"
     ]
    }
   ],
   "source": [
    "# Verificando o número de valores únicos presentes em cada uma das variáveis especificadas.\n",
    "\n",
    "print(sapply(data, function(v) {\n",
    "    length(unique(v))\n",
    "}))"
   ]
  },
  {
   "cell_type": "markdown",
   "metadata": {
    "colab_type": "text",
    "id": "P6eQiCltkTIP"
   },
   "source": [
    "### **3.2 Analisando a correlação entre as variáveis**"
   ]
  },
  {
   "cell_type": "markdown",
   "metadata": {
    "colab_type": "text",
    "id": "l95XE5nznFQD"
   },
   "source": [
    "Nesta etapa desejamos verificar como as variáveis se correlacionam, ou seja, o quanto uma caraterística ajuda a explicar a variação de outra característica."
   ]
  },
  {
   "cell_type": "code",
   "execution_count": 225,
   "metadata": {
    "colab": {
     "base_uri": "https://localhost:8080/",
     "height": 437
    },
    "colab_type": "code",
    "id": "r_jiI1KkLguS",
    "outputId": "ff0352a4-ec21-43e8-fd4f-2e423be640f0"
   },
   "outputs": [
    {
     "data": {
      "image/png": "[encoded data removed]",
      "text/plain": [
       "Plot with title \"\n",
       "\n",
       " Correlation graph between variables\""
      ]
     },
     "metadata": {},
     "output_type": "display_data"
    }
   ],
   "source": [
    "# Calculando a matriz de correlação.\n",
    "\n",
    "corr <- cor(data)\n",
    "\n",
    "# Criando gráfico para avaliar a correlação entre as variáveis.\n",
    "\n",
    "corrplot(\n",
    "    corr        = corr, \n",
    "    type        = 'upper', \n",
    "    addCoef.col = \"black\", \n",
    "    diag        = F, \n",
    "    number.cex  = 0.7,\n",
    "    tl.col      = 'black', \n",
    "    method      = 'color',\n",
    "    main        = \"\\n\\n Correlation graph between variables\" \n",
    ")"
   ]
  },
  {
   "cell_type": "markdown",
   "metadata": {
    "colab_type": "text",
    "id": "zkCQsuosY-bl"
   },
   "source": [
    "### **3.3 Alterando tipos de dados das variáveis**"
   ]
  },
  {
   "cell_type": "markdown",
   "metadata": {
    "colab_type": "text",
    "id": "soNLDW61tlJ8"
   },
   "source": [
    "A partir da documentação fornecida sobre o conjunto de dados, iremos alterar o tipo de dado de cada variável."
   ]
  },
  {
   "cell_type": "code",
   "execution_count": 133,
   "metadata": {
    "colab": {},
    "colab_type": "code",
    "id": "d3Uxjo6YLKC7"
   },
   "outputs": [],
   "source": [
    "## Alterando o tipo da variável sex.\n",
    "\n",
    "data$sex <- as.factor(data$sex)\n",
    "\n",
    "# Alterando as etiquetas dos valores da variável.\n",
    "\n",
    "levels(data$sex) <- c('F', 'M')\n",
    "\n",
    "## Alterando o tipo da variável fasting_blood_sugar.\n",
    "\n",
    "data$fasting_blood_sugar <- as.factor(data$fasting_blood_sugar)\n",
    "\n",
    "# Alterando as etiquetas dos valores da variável.\n",
    "\n",
    "levels(data$fasting_blood_sugar) <- c('No', 'Yes')\n",
    "\n",
    "## Alterando o tipo da variável exercise_induced_angina.\n",
    "\n",
    "data$exercise_induced_angina <- as.factor(data$exercise_induced_angina)\n",
    "\n",
    "# Alterando as etiquetas dos valores da variável.\n",
    "\n",
    "levels(data$exercise_induced_angina) <- c('No', 'Yes')\n",
    "\n",
    "# Alterando o tipo da variável resting_electro_results.\n",
    "\n",
    "data$resting_electro_results <- as.factor(data$resting_electro_results)\n",
    "\n",
    "# Alterando o tipo da variável chest_pain_type.\n",
    "\n",
    "data$chest_pain_type <- as.factor(data$chest_pain_type)\n",
    "\n",
    "# Alterando o tipo da variável slope_of_the_peak.\n",
    "\n",
    "data$slope_of_the_peak <- factor(data$slope_of_the_peak, ordered = T)\n",
    "\n",
    "## Alterando o tipo da variável thal.\n",
    "\n",
    "data$thal <- as.factor(data$thal)\n",
    "\n",
    "# Alterando as etiquetas dos valores da variável.\n",
    "\n",
    "levels(data$thal) <- c('Normal', 'Fixed defect', 'Reversable defect')\n",
    "\n",
    "## Alterando o tipo da variável heart_disease.\n",
    "\n",
    "data$heart_disease <- as.factor(data$heart_disease)\n",
    "\n",
    "# Alterando as etiquetas dos valores da variável.\n",
    "\n",
    "levels(data$heart_disease) <- c('No', 'Yes')\n",
    "\n",
    "# Alterando o tipo da variável age.\n",
    "\n",
    "data$age <- as.integer(data$age)\n",
    "\n",
    "# Alterando o tipo da variável resting_blood_pressure.\n",
    "\n",
    "data$resting_blood_pressure <- as.integer(data$resting_blood_pressure)\n",
    "\n",
    "# Alterando o tipo da variável serum_cholestoral.\n",
    "\n",
    "data$serum_cholestoral <- as.integer(data$serum_cholestoral)\n",
    "\n",
    "# Alterando o tipo da variável max_heart_rate_achieved.\n",
    "\n",
    "data$max_heart_rate_achieved <- as.integer(data$max_heart_rate_achieved)\n",
    "\n",
    "# Alterando o tipo da variável number_of_major_vessels.\n",
    "\n",
    "data$number_of_major_vessels <- as.factor(data$number_of_major_vessels)"
   ]
  },
  {
   "cell_type": "code",
   "execution_count": 134,
   "metadata": {
    "colab": {
     "base_uri": "https://localhost:8080/",
     "height": 289
    },
    "colab_type": "code",
    "id": "nipiHrM-bdEZ",
    "outputId": "3160a4c8-3c75-4001-8f46-9c7696138eb3"
   },
   "outputs": [
    {
     "name": "stdout",
     "output_type": "stream",
     "text": [
      "Observations: 270\n",
      "Variables: 14\n",
      "$ age                     <int> 70, 67, 57, 64, 74, 65, 56, 59, 60, 63, 59,...\n",
      "$ sex                     <fct> M, F, M, M, F, M, M, M, M, F, M, M, M, M, F...\n",
      "$ chest_pain_type         <fct> 4, 3, 2, 4, 2, 4, 3, 4, 4, 4, 4, 4, 3, 1, 4...\n",
      "$ resting_blood_pressure  <int> 130, 115, 124, 128, 120, 120, 130, 110, 140...\n",
      "$ serum_cholestoral       <int> 322, 564, 261, 263, 269, 177, 256, 239, 293...\n",
      "$ fasting_blood_sugar     <fct> No, No, No, No, No, No, Yes, No, No, No, No...\n",
      "$ resting_electro_results <fct> 2, 2, 0, 0, 2, 0, 2, 2, 2, 2, 0, 2, 2, 0, 2...\n",
      "$ max_heart_rate_achieved <int> 109, 160, 141, 105, 121, 140, 142, 142, 170...\n",
      "$ exercise_induced_angina <fct> No, No, No, Yes, Yes, No, Yes, Yes, No, No,...\n",
      "$ oldpeak                 <dbl> 2.4, 1.6, 0.3, 0.2, 0.2, 0.4, 0.6, 1.2, 1.2...\n",
      "$ slope_of_the_peak       <ord> 2, 2, 1, 2, 1, 1, 2, 2, 2, 2, 2, 1, 1, 2, 1...\n",
      "$ number_of_major_vessels <fct> 3, 0, 0, 1, 1, 0, 1, 1, 2, 3, 0, 0, 0, 2, 1...\n",
      "$ thal                    <fct> Normal, Reversable defect, Reversable defec...\n",
      "$ heart_disease           <fct> Yes, No, Yes, No, No, No, Yes, Yes, Yes, Ye...\n"
     ]
    }
   ],
   "source": [
    "# Verificando os tipos das colunas carregadas no dataset.\n",
    "\n",
    "glimpse(data)"
   ]
  },
  {
   "cell_type": "markdown",
   "metadata": {
    "colab_type": "text",
    "id": "dyOU8JZgu0yr"
   },
   "source": [
    "Perfeito, agora podemos ir para as próxima etapas de exploração dos dados."
   ]
  },
  {
   "cell_type": "markdown",
   "metadata": {
    "colab_type": "text",
    "id": "OlSmZtOLLh-D"
   },
   "source": [
    "### **3.4 Explorando a distribuição de cada variável individualmente**"
   ]
  },
  {
   "cell_type": "markdown",
   "metadata": {
    "colab_type": "text",
    "id": "guiSGSNQ9DIf"
   },
   "source": [
    "Antes de começarmos, queremos deixar claro que quando utilizarmos expressões que descrevam uma pessoa como sendo **saudável** ou **sadia** estaremos especificamente declarando que ela não possui registros de doenças cardiovasculares. \n",
    "\n",
    "Independente do indivíduo apresentar ou não outras doenças, adotaremos esta nomeclatura para aumentar a fluidez na escrita da nossa análise que tem como foco estudar problemas cardíacos. "
   ]
  },
  {
   "cell_type": "markdown",
   "metadata": {
    "colab_type": "text",
    "id": "mEVB3PWYxKou"
   },
   "source": [
    "#### **3.4.1 Criando funções auxiliares**"
   ]
  },
  {
   "cell_type": "markdown",
   "metadata": {
    "colab_type": "text",
    "id": "68jxmhy5DlRd"
   },
   "source": [
    "##### **3.4.1.1 Funções para a criação de gráficos**"
   ]
  },
  {
   "cell_type": "markdown",
   "metadata": {
    "colab_type": "text",
    "id": "iRalRzURAQXJ"
   },
   "source": [
    "Criaremos algumas funções para padronizar as plotagens de gráficos que efetuaremos."
   ]
  },
  {
   "cell_type": "code",
   "execution_count": 135,
   "metadata": {
    "colab": {},
    "colab_type": "code",
    "id": "DNA_1F1k3CI5"
   },
   "outputs": [],
   "source": [
    "# Definindo um função para criar gráficos de barras.\n",
    "\n",
    "barPlot <- function(col, data, target = 'heart_disease') {\n",
    "    \n",
    "    ggplot(data = data, aes(x = data[, col], fill = data[, target])) + \n",
    "        geom_bar(alpha = 0.85, position = 'dodge') +\n",
    "        ggtitle(paste(\"Bar chart for variable:\", col)) +\n",
    "        xlab(col) +\n",
    "        labs(fill = \"Heart Disease\") +\n",
    "        theme_bw()\n",
    "}"
   ]
  },
  {
   "cell_type": "code",
   "execution_count": 136,
   "metadata": {
    "colab": {},
    "colab_type": "code",
    "id": "QchP2gtiUp1a"
   },
   "outputs": [],
   "source": [
    "# Definindo um função para criar gráficos de densidade.\n",
    "\n",
    "densityPlot <- function(col, data, target = 'heart_disease') {\n",
    "    \n",
    "    ggplot(data = data, aes(x = data[, col], fill = data[, target])) + \n",
    "        geom_density(alpha = 0.85) +\n",
    "        ggtitle(paste(\"Density chart for variable:\", col)) +\n",
    "        xlab(col) +\n",
    "        labs(fill = \"Heart Disease\") +\n",
    "        theme_bw() \n",
    "}"
   ]
  },
  {
   "cell_type": "code",
   "execution_count": 137,
   "metadata": {
    "colab": {},
    "colab_type": "code",
    "id": "RCIsLBUzCAal"
   },
   "outputs": [],
   "source": [
    "# Definindo um função para criar gráficos de boxplot.\n",
    "\n",
    "boxPlot <- function(col, data, target = 'heart_disease') {\n",
    "  \n",
    "    ggplot(data = data, aes(x = data[, target],  y = data[, col], fill = data[, target])) + \n",
    "        geom_boxplot(alpha = 0.85) +\n",
    "        ggtitle(paste(\"Boxplot for variable:\", col)) +\n",
    "        ylab(col) +\n",
    "        xlab(\"\") + \n",
    "        labs(fill = \"Heart Disease\") +\n",
    "        theme_bw()  \n",
    "}"
   ]
  },
  {
   "cell_type": "markdown",
   "metadata": {
    "colab_type": "text",
    "id": "Sk2ZgFdeDv_d"
   },
   "source": [
    "##### **3.4.1.2 Funções para calcular estatísticas**"
   ]
  },
  {
   "cell_type": "markdown",
   "metadata": {
    "colab_type": "text",
    "id": "-r-WCzAKArPB"
   },
   "source": [
    "Criaremos uma função para padronizar as estatísticas que calcularemos para cada uma das variáveis a serem estudadas."
   ]
  },
  {
   "cell_type": "code",
   "execution_count": 138,
   "metadata": {
    "colab": {},
    "colab_type": "code",
    "id": "wemf-koavK4h"
   },
   "outputs": [],
   "source": [
    "# Definindo um função para gerar um dataframe com as estatísticas de uma variável do dataset.\n",
    "\n",
    "varStats <- function(col, data, target = 'heart_disease') {\n",
    "\n",
    "    if(!is.factor(data[, col])) {                 \n",
    "\n",
    "        # Calcula estatísticas de variáveis numéricas.\n",
    "        \n",
    "        data %>%\n",
    "            group_by_at(target) %>%\n",
    "            summarize(\n",
    "                Min       = min(get(col)),\n",
    "                Q1        = unname(quantile(get(col), probs = c(0.25))),\n",
    "                Median    = median(get(col)),\n",
    "                mean      = mean(get(col)),\n",
    "                Q3        = unname(quantile(get(col), probs = c(0.75))),\n",
    "                Max       = max(get(col)),\n",
    "                Sd        = sd(get(col)),\n",
    "                Sk        = skewness(get(col)),\n",
    "                Ck        = kurtosis(get(col))\n",
    "            )\n",
    "\n",
    "    } else {                                      \n",
    "\n",
    "        # Calcula estatísticas de variáveis categóricas.\n",
    "\n",
    "        l = list()\n",
    "\n",
    "        # Contabiliza o número de registros dentro de cada classe da variável.\n",
    "\n",
    "        l$variableClasses <- data %>%\n",
    "            group_by_at(col) %>%\n",
    "            summarise(\n",
    "                count = n(),\n",
    "                prop  = n() / nrow(data) * 100\n",
    "            )\n",
    "        \n",
    "        # Contabiliza o número de registros dentro de cada classe da variável e segmenta cada subconjunto a partir da variável alvo.\n",
    "\n",
    "        l$variableClassesGroupedByTargetVariable <- data %>%\n",
    "            group_by_at(c(col, target)) %>%\n",
    "            summarise(\n",
    "                count = n(),\n",
    "                prop  = n() / nrow(data) * 100\n",
    "            )\n",
    "\n",
    "        # Retorna a lista com as estatísticas computadas.\n",
    "\n",
    "        l\n",
    "    }\n",
    "}"
   ]
  },
  {
   "cell_type": "markdown",
   "metadata": {
    "colab_type": "text",
    "id": "qQTqSm4slOJq"
   },
   "source": [
    "O coeficente de **Assimetria (Skewness)** indica como os dados estão *distribuídos* e para interpretar seu resultado podemos olhar a tabela a seguir:\n",
    "\n",
    "| Índice de Assimetria | Descrição                                                                                                                        |\n",
    "|:---------------------|:---------------------------------------------------------------------------------------------------------------------------------|\n",
    "| **SK ≈ 0**           | Os dados são simétricos. Tanto a cauda do lado direito quanto a do lado esquerdo da função densidade de probabilidade são iguais;|\n",
    "| **SK < 0**           | A assimetria é negativa. A cauda do lado esquerdo da função densidade de probabilidade é maior que a do lado direito e;          |\n",
    "| **SK > 0**           | A assimetria é positiva. A cauda do lado direito da função densidade de probabilidade é maior que a do lado esquerdo.            |\n"
   ]
  },
  {
   "cell_type": "markdown",
   "metadata": {
    "colab_type": "text",
    "id": "0Al8HLsdpPrE"
   },
   "source": [
    "O coeficiente de **Curtose (Kurtosis)** é uma medida que caracteriza o *achatamento da curva* da função de distribuição e para interpretar seu resultado podemos olhar a tabela a seguir:\n",
    "\n",
    "| Índice de Curtose | Descrição                                                                                                      |\n",
    "|:------------------|:---------------------------------------------------------------------------------------------------------------|\n",
    "| **CK ≈ 0**        | A distribuição é normal e é chamada de Curtose *Mesocúrtica*;                                                  |\n",
    "| **CK < 0**        | A Cauda é mais leve que a normal. Para um coeficiente de Curtose negativo, tem-se uma Curtose *Platicúrtica* e;|\n",
    "| **CK > 0**        | A Cauda é mais pesada que a normal. Para um coeficiente de Curtose positivo, tem-se uma Curtose *Leptocúrtica*.|\n",
    "\n",
    "**Atenção:** Há diferentes fórmulas para calcular estes coeficientes. Mas, para este estudo utilizamos as funções fornecidas pela biblioteca **e1071** com suas respectivas configurações padrão. Em caso de dúvida, consulte a [documentação](https://cran.r-project.org/web/packages/e1071/e1071.pdf)."
   ]
  },
  {
   "cell_type": "markdown",
   "metadata": {
    "colab_type": "text",
    "id": "84jVPpvkw6sJ"
   },
   "source": [
    "#### **3.4.2 Variável age**"
   ]
  },
  {
   "cell_type": "code",
   "execution_count": 139,
   "metadata": {
    "colab": {
     "base_uri": "https://localhost:8080/",
     "height": 0
    },
    "colab_type": "code",
    "id": "iWuOigy51pe5",
    "outputId": "13ab78f9-db50-4c33-9b2c-01efb304b6f0"
   },
   "outputs": [
    {
     "data": {
      "image/png": "[encoded data removed]",
      "text/plain": [
       "plot without title"
      ]
     },
     "metadata": {},
     "output_type": "display_data"
    }
   ],
   "source": [
    "# Definindo o nome da variável a ser analisada.\n",
    "\n",
    "col <- 'age'\n",
    "\n",
    "# Criando um gráfico de barras para a variável especificada.\n",
    "\n",
    "barPlot(col, data)"
   ]
  },
  {
   "cell_type": "code",
   "execution_count": 140,
   "metadata": {
    "colab": {
     "base_uri": "https://localhost:8080/",
     "height": 0
    },
    "colab_type": "code",
    "id": "dmdCxf7dVYTt",
    "outputId": "f5d167d5-0841-4a6e-c9cd-63590850be54"
   },
   "outputs": [
    {
     "data": {
      "image/png": "[encoded data removed]",
      "text/plain": [
       "plot without title"
      ]
     },
     "metadata": {},
     "output_type": "display_data"
    }
   ],
   "source": [
    "# Criando um gráfico de densidade para a variável especificada.\n",
    "\n",
    "densityPlot(col, data)"
   ]
  },
  {
   "cell_type": "markdown",
   "metadata": {
    "colab_type": "text",
    "id": "gRCp_4KQuBe3"
   },
   "source": [
    "Os dados dos indivíduos que apresentam problemas cardíacos está mais deslocado para a direita quando comparado ao dos indivíduos que não apresentam estas dificuldades. Isto nos indica que as pessoas com problemas cardiovasculares tendem a ser mais velhas do que aquelas que apresentam um coração sadio."
   ]
  },
  {
   "cell_type": "code",
   "execution_count": 141,
   "metadata": {
    "colab": {
     "base_uri": "https://localhost:8080/",
     "height": 0
    },
    "colab_type": "code",
    "id": "lfskQZZr2Hft",
    "outputId": "96527990-1bec-4ea9-ec8c-c0f9fe278543"
   },
   "outputs": [
    {
     "data": {
      "image/png": "[encoded data removed]",
      "text/plain": [
       "plot without title"
      ]
     },
     "metadata": {},
     "output_type": "display_data"
    }
   ],
   "source": [
    "# Criando um gráfico de boxplot para a variável especificada.\n",
    "\n",
    "boxPlot(col, data)"
   ]
  },
  {
   "cell_type": "markdown",
   "metadata": {
    "colab_type": "text",
    "id": "1PS5j-fqwumY"
   },
   "source": [
    "O gráfico de boxplot nos permite detectar a presença de outliers dentro dos dados dos indivíduos que apresentam problemas cardíacos."
   ]
  },
  {
   "cell_type": "code",
   "execution_count": 142,
   "metadata": {
    "colab": {
     "base_uri": "https://localhost:8080/",
     "height": 0
    },
    "colab_type": "code",
    "id": "B2WKFc5p3ytv",
    "outputId": "ee32150c-583f-4f08-d23c-a0ac29b11699"
   },
   "outputs": [
    {
     "data": {
      "text/html": [
       "<table>\n",
       "<thead><tr><th scope=col>heart_disease</th><th scope=col>Min</th><th scope=col>Q1</th><th scope=col>Median</th><th scope=col>mean</th><th scope=col>Q3</th><th scope=col>Max</th><th scope=col>Sd</th><th scope=col>Sk</th><th scope=col>Ck</th></tr></thead>\n",
       "<tbody>\n",
       "\t<tr><td>No         </td><td>29         </td><td>45         </td><td>52         </td><td>52.70667   </td><td>59         </td><td>76         </td><td>9.509830   </td><td> 0.1532323 </td><td>-0.63383151</td></tr>\n",
       "\t<tr><td>Yes        </td><td>35         </td><td>52         </td><td>58         </td><td>56.59167   </td><td>62         </td><td>77         </td><td>8.116273   </td><td>-0.5327168 </td><td> 0.01991217</td></tr>\n",
       "</tbody>\n",
       "</table>\n"
      ],
      "text/latex": [
       "\\begin{tabular}{r|llllllllll}\n",
       " heart\\_disease & Min & Q1 & Median & mean & Q3 & Max & Sd & Sk & Ck\\\\\n",
       "\\hline\n",
       "\t No          & 29          & 45          & 52          & 52.70667    & 59          & 76          & 9.509830    &  0.1532323  & -0.63383151\\\\\n",
       "\t Yes         & 35          & 52          & 58          & 56.59167    & 62          & 77          & 8.116273    & -0.5327168  &  0.01991217\\\\\n",
       "\\end{tabular}\n"
      ],
      "text/markdown": [
       "\n",
       "| heart_disease | Min | Q1 | Median | mean | Q3 | Max | Sd | Sk | Ck |\n",
       "|---|---|---|---|---|---|---|---|---|---|\n",
       "| No          | 29          | 45          | 52          | 52.70667    | 59          | 76          | 9.509830    |  0.1532323  | -0.63383151 |\n",
       "| Yes         | 35          | 52          | 58          | 56.59167    | 62          | 77          | 8.116273    | -0.5327168  |  0.01991217 |\n",
       "\n"
      ],
      "text/plain": [
       "  heart_disease Min Q1 Median mean     Q3 Max Sd       Sk         Ck         \n",
       "1 No            29  45 52     52.70667 59 76  9.509830  0.1532323 -0.63383151\n",
       "2 Yes           35  52 58     56.59167 62 77  8.116273 -0.5327168  0.01991217"
      ]
     },
     "metadata": {},
     "output_type": "display_data"
    }
   ],
   "source": [
    "# Calculando algumas estatísticas para a variável especificada.\n",
    "\n",
    "varStats(col, data)"
   ]
  },
  {
   "cell_type": "markdown",
   "metadata": {
    "colab_type": "text",
    "id": "SetCdA8n2a3l"
   },
   "source": [
    "Concluímos que há uma diferença mediana de **6 anos** entre os índividuos classificados com ou sem problemas cardíacos."
   ]
  },
  {
   "cell_type": "markdown",
   "metadata": {
    "colab_type": "text",
    "id": "H_jAe30syEkb"
   },
   "source": [
    "#### **3.4.3 Variável sex**"
   ]
  },
  {
   "cell_type": "code",
   "execution_count": 143,
   "metadata": {
    "colab": {
     "base_uri": "https://localhost:8080/",
     "height": 0
    },
    "colab_type": "code",
    "id": "XDZ51NAkNVX_",
    "outputId": "995c9b53-a84d-4c57-bb86-94d25525c496"
   },
   "outputs": [
    {
     "data": {
      "image/png": "[encoded data removed]",
      "text/plain": [
       "plot without title"
      ]
     },
     "metadata": {},
     "output_type": "display_data"
    }
   ],
   "source": [
    "# Definindo o nome da variável a ser analisada.\n",
    "\n",
    "col <- 'sex'\n",
    "\n",
    "# Criando um gráfico de barras para a variável especificada.\n",
    "\n",
    "barPlot(col, data)"
   ]
  },
  {
   "cell_type": "code",
   "execution_count": 144,
   "metadata": {
    "colab": {
     "base_uri": "https://localhost:8080/",
     "height": 0
    },
    "colab_type": "code",
    "id": "7B8xofn3NVYc",
    "outputId": "77147a9c-2009-4787-f1cc-2b068d899be3"
   },
   "outputs": [
    {
     "data": {
      "text/html": [
       "<table>\n",
       "<thead><tr><th scope=col>sex</th><th scope=col>count</th><th scope=col>prop</th></tr></thead>\n",
       "<tbody>\n",
       "\t<tr><td>F       </td><td> 87     </td><td>32.22222</td></tr>\n",
       "\t<tr><td>M       </td><td>183     </td><td>67.77778</td></tr>\n",
       "</tbody>\n",
       "</table>\n"
      ],
      "text/latex": [
       "\\begin{tabular}{r|lll}\n",
       " sex & count & prop\\\\\n",
       "\\hline\n",
       "\t F        &  87      & 32.22222\\\\\n",
       "\t M        & 183      & 67.77778\\\\\n",
       "\\end{tabular}\n"
      ],
      "text/markdown": [
       "\n",
       "| sex | count | prop |\n",
       "|---|---|---|\n",
       "| F        |  87      | 32.22222 |\n",
       "| M        | 183      | 67.77778 |\n",
       "\n"
      ],
      "text/plain": [
       "  sex count prop    \n",
       "1 F    87   32.22222\n",
       "2 M   183   67.77778"
      ]
     },
     "metadata": {},
     "output_type": "display_data"
    }
   ],
   "source": [
    "# Calculando algumas estatísticas para a variável especificada.\n",
    "\n",
    "stats <- varStats(col, data)\n",
    "\n",
    "# Verificando a distribuição de registros entre as classes da variável.\n",
    "\n",
    "stats$variableClasses"
   ]
  },
  {
   "cell_type": "markdown",
   "metadata": {
    "colab_type": "text",
    "id": "AX9fIgwx4x9f"
   },
   "source": [
    "Observamos que dentro do nosso conjunto de dados aproximadamente **32.2%** dos registros estão associados a mulheres e **67.8%** estão associados a homens."
   ]
  },
  {
   "cell_type": "code",
   "execution_count": 145,
   "metadata": {
    "colab": {
     "base_uri": "https://localhost:8080/",
     "height": 0
    },
    "colab_type": "code",
    "id": "GWiBFTmx4EfB",
    "outputId": "a05bd7fd-c29e-4e3a-88ee-7f8291df1d6f"
   },
   "outputs": [
    {
     "data": {
      "text/html": [
       "<table>\n",
       "<thead><tr><th scope=col>sex</th><th scope=col>heart_disease</th><th scope=col>count</th><th scope=col>prop</th></tr></thead>\n",
       "<tbody>\n",
       "\t<tr><td>F        </td><td>No       </td><td> 67      </td><td>24.814815</td></tr>\n",
       "\t<tr><td>F        </td><td>Yes      </td><td> 20      </td><td> 7.407407</td></tr>\n",
       "\t<tr><td>M        </td><td>No       </td><td> 83      </td><td>30.740741</td></tr>\n",
       "\t<tr><td>M        </td><td>Yes      </td><td>100      </td><td>37.037037</td></tr>\n",
       "</tbody>\n",
       "</table>\n"
      ],
      "text/latex": [
       "\\begin{tabular}{r|llll}\n",
       " sex & heart\\_disease & count & prop\\\\\n",
       "\\hline\n",
       "\t F         & No        &  67       & 24.814815\\\\\n",
       "\t F         & Yes       &  20       &  7.407407\\\\\n",
       "\t M         & No        &  83       & 30.740741\\\\\n",
       "\t M         & Yes       & 100       & 37.037037\\\\\n",
       "\\end{tabular}\n"
      ],
      "text/markdown": [
       "\n",
       "| sex | heart_disease | count | prop |\n",
       "|---|---|---|---|\n",
       "| F         | No        |  67       | 24.814815 |\n",
       "| F         | Yes       |  20       |  7.407407 |\n",
       "| M         | No        |  83       | 30.740741 |\n",
       "| M         | Yes       | 100       | 37.037037 |\n",
       "\n"
      ],
      "text/plain": [
       "  sex heart_disease count prop     \n",
       "1 F   No             67   24.814815\n",
       "2 F   Yes            20    7.407407\n",
       "3 M   No             83   30.740741\n",
       "4 M   Yes           100   37.037037"
      ]
     },
     "metadata": {},
     "output_type": "display_data"
    }
   ],
   "source": [
    "# Verificando a distribuição de registros entre as classes da variável especificada agrupadas pela variável alvo.\n",
    "\n",
    "stats$variableClassesGroupedByTargetVariable"
   ]
  },
  {
   "cell_type": "code",
   "execution_count": 226,
   "metadata": {},
   "outputs": [
    {
     "data": {
      "text/html": [
       "5.00000027000001"
      ],
      "text/latex": [
       "5.00000027000001"
      ],
      "text/markdown": [
       "5.00000027000001"
      ],
      "text/plain": [
       "[1] 5"
      ]
     },
     "metadata": {},
     "output_type": "display_data"
    }
   ],
   "source": [
    "37.037037 / 7.407407"
   ]
  },
  {
   "cell_type": "markdown",
   "metadata": {
    "colab_type": "text",
    "id": "wChaag_p6Vvp"
   },
   "source": [
    "É interessante observar que a proporção de mulheres com problemas cardíacos dentro do conjunto de dados é aproximadamente **3.34 vezes menor** do que aquelas que estão saudáveis e **5 vezes menor** do que a proporção de homens doentes."
   ]
  },
  {
   "cell_type": "markdown",
   "metadata": {
    "colab_type": "text",
    "id": "WdSliZCyyKB7"
   },
   "source": [
    "#### **3.4.4 Variável chest_pain_type**"
   ]
  },
  {
   "cell_type": "code",
   "execution_count": 146,
   "metadata": {
    "colab": {
     "base_uri": "https://localhost:8080/",
     "height": 0
    },
    "colab_type": "code",
    "id": "a7XU_xx4NWZM",
    "outputId": "d66b4f86-499a-4dcc-c095-77bbcb59c7ea"
   },
   "outputs": [
    {
     "data": {
      "image/png": "[encoded data removed]",
      "text/plain": [
       "plot without title"
      ]
     },
     "metadata": {},
     "output_type": "display_data"
    }
   ],
   "source": [
    "# Definindo o nome da variável a ser analisada.\n",
    "\n",
    "col <- 'chest_pain_type'\n",
    "\n",
    "# Criando um gráfico de barras para a variável especificada.\n",
    "\n",
    "barPlot(col, data)"
   ]
  },
  {
   "cell_type": "markdown",
   "metadata": {
    "colab_type": "text",
    "id": "JW4TZF77B_Sr"
   },
   "source": [
    "Vemos que as pessoas que apresentam dores do tipo **1, 2 e 3** são predominantemente sadias, mas este padrão se inverte para a dor tipo **4** onde a maior parte dos indivíduos que a possuem apresentam problemas cardíacos. "
   ]
  },
  {
   "cell_type": "code",
   "execution_count": 147,
   "metadata": {
    "colab": {
     "base_uri": "https://localhost:8080/",
     "height": 0
    },
    "colab_type": "code",
    "id": "tnhVmfWuA-zX",
    "outputId": "9cc28517-4b17-4db6-f838-a1cdf4886913"
   },
   "outputs": [
    {
     "data": {
      "text/html": [
       "<table>\n",
       "<thead><tr><th scope=col>chest_pain_type</th><th scope=col>count</th><th scope=col>prop</th></tr></thead>\n",
       "<tbody>\n",
       "\t<tr><td>1        </td><td> 20      </td><td> 7.407407</td></tr>\n",
       "\t<tr><td>2        </td><td> 42      </td><td>15.555556</td></tr>\n",
       "\t<tr><td>3        </td><td> 79      </td><td>29.259259</td></tr>\n",
       "\t<tr><td>4        </td><td>129      </td><td>47.777778</td></tr>\n",
       "</tbody>\n",
       "</table>\n"
      ],
      "text/latex": [
       "\\begin{tabular}{r|lll}\n",
       " chest\\_pain\\_type & count & prop\\\\\n",
       "\\hline\n",
       "\t 1         &  20       &  7.407407\\\\\n",
       "\t 2         &  42       & 15.555556\\\\\n",
       "\t 3         &  79       & 29.259259\\\\\n",
       "\t 4         & 129       & 47.777778\\\\\n",
       "\\end{tabular}\n"
      ],
      "text/markdown": [
       "\n",
       "| chest_pain_type | count | prop |\n",
       "|---|---|---|\n",
       "| 1         |  20       |  7.407407 |\n",
       "| 2         |  42       | 15.555556 |\n",
       "| 3         |  79       | 29.259259 |\n",
       "| 4         | 129       | 47.777778 |\n",
       "\n"
      ],
      "text/plain": [
       "  chest_pain_type count prop     \n",
       "1 1                20    7.407407\n",
       "2 2                42   15.555556\n",
       "3 3                79   29.259259\n",
       "4 4               129   47.777778"
      ]
     },
     "metadata": {},
     "output_type": "display_data"
    }
   ],
   "source": [
    "# Calculando algumas estatísticas para a variável especificada.\n",
    "\n",
    "stats <- varStats(col, data)\n",
    "\n",
    "# Verificando a distribuição de registros entre as classes da variável.\n",
    "\n",
    "stats$variableClasses"
   ]
  },
  {
   "cell_type": "markdown",
   "metadata": {
    "colab_type": "text",
    "id": "UM9h1tVyC_WH"
   },
   "source": [
    "Observamos que as proporções dos registros do tipo de dor crescem de maneira incremental, sendo a dor do *tipo 1* a **menos frequente (presente em aproximadamente 7.4% dos registros)** e a do *tipo 4* a **mais frequente (presente em aproximadamente 47.8% dos registros**)."
   ]
  },
  {
   "cell_type": "code",
   "execution_count": 148,
   "metadata": {
    "colab": {
     "base_uri": "https://localhost:8080/",
     "height": 0
    },
    "colab_type": "code",
    "id": "U9Pk37ntA-zk",
    "outputId": "9854970d-cc7a-4bbc-d4b8-9973a40e0fb7"
   },
   "outputs": [
    {
     "data": {
      "text/html": [
       "<table>\n",
       "<thead><tr><th scope=col>chest_pain_type</th><th scope=col>heart_disease</th><th scope=col>count</th><th scope=col>prop</th></tr></thead>\n",
       "<tbody>\n",
       "\t<tr><td>1        </td><td>No       </td><td>15       </td><td> 5.555556</td></tr>\n",
       "\t<tr><td>1        </td><td>Yes      </td><td> 5       </td><td> 1.851852</td></tr>\n",
       "\t<tr><td>2        </td><td>No       </td><td>35       </td><td>12.962963</td></tr>\n",
       "\t<tr><td>2        </td><td>Yes      </td><td> 7       </td><td> 2.592593</td></tr>\n",
       "\t<tr><td>3        </td><td>No       </td><td>62       </td><td>22.962963</td></tr>\n",
       "\t<tr><td>3        </td><td>Yes      </td><td>17       </td><td> 6.296296</td></tr>\n",
       "\t<tr><td>4        </td><td>No       </td><td>38       </td><td>14.074074</td></tr>\n",
       "\t<tr><td>4        </td><td>Yes      </td><td>91       </td><td>33.703704</td></tr>\n",
       "</tbody>\n",
       "</table>\n"
      ],
      "text/latex": [
       "\\begin{tabular}{r|llll}\n",
       " chest\\_pain\\_type & heart\\_disease & count & prop\\\\\n",
       "\\hline\n",
       "\t 1         & No        & 15        &  5.555556\\\\\n",
       "\t 1         & Yes       &  5        &  1.851852\\\\\n",
       "\t 2         & No        & 35        & 12.962963\\\\\n",
       "\t 2         & Yes       &  7        &  2.592593\\\\\n",
       "\t 3         & No        & 62        & 22.962963\\\\\n",
       "\t 3         & Yes       & 17        &  6.296296\\\\\n",
       "\t 4         & No        & 38        & 14.074074\\\\\n",
       "\t 4         & Yes       & 91        & 33.703704\\\\\n",
       "\\end{tabular}\n"
      ],
      "text/markdown": [
       "\n",
       "| chest_pain_type | heart_disease | count | prop |\n",
       "|---|---|---|---|\n",
       "| 1         | No        | 15        |  5.555556 |\n",
       "| 1         | Yes       |  5        |  1.851852 |\n",
       "| 2         | No        | 35        | 12.962963 |\n",
       "| 2         | Yes       |  7        |  2.592593 |\n",
       "| 3         | No        | 62        | 22.962963 |\n",
       "| 3         | Yes       | 17        |  6.296296 |\n",
       "| 4         | No        | 38        | 14.074074 |\n",
       "| 4         | Yes       | 91        | 33.703704 |\n",
       "\n"
      ],
      "text/plain": [
       "  chest_pain_type heart_disease count prop     \n",
       "1 1               No            15     5.555556\n",
       "2 1               Yes            5     1.851852\n",
       "3 2               No            35    12.962963\n",
       "4 2               Yes            7     2.592593\n",
       "5 3               No            62    22.962963\n",
       "6 3               Yes           17     6.296296\n",
       "7 4               No            38    14.074074\n",
       "8 4               Yes           91    33.703704"
      ]
     },
     "metadata": {},
     "output_type": "display_data"
    }
   ],
   "source": [
    "# Verificando a distribuição de registros entre as classes da variável especificada agrupadas pela variável alvo.\n",
    "\n",
    "stats$variableClassesGroupedByTargetVariable"
   ]
  },
  {
   "cell_type": "markdown",
   "metadata": {
    "colab_type": "text",
    "id": "Kzmn4LapEBSD"
   },
   "source": [
    "Destacamos que **78.5%** dos indivíduos que apresentam a dor do *tipo 3* tem um coração saudável enquanto **70.5%** dos indivíduos  que aprentam a dor do *tipo 4* possuem problemas cardíacos."
   ]
  },
  {
   "cell_type": "markdown",
   "metadata": {
    "colab_type": "text",
    "id": "Uofd2zWJyVsl"
   },
   "source": [
    "#### **3.4.5 Variável resting_blood_pressure**"
   ]
  },
  {
   "cell_type": "code",
   "execution_count": 149,
   "metadata": {
    "colab": {
     "base_uri": "https://localhost:8080/",
     "height": 0
    },
    "colab_type": "code",
    "id": "3tWtkQXCXPgJ",
    "outputId": "75e2cef1-299a-4c0b-bc22-2d5ce80ba5a0"
   },
   "outputs": [
    {
     "data": {
      "image/png": "[encoded data removed]",
      "text/plain": [
       "plot without title"
      ]
     },
     "metadata": {},
     "output_type": "display_data"
    }
   ],
   "source": [
    "# Definindo o nome da variável a ser analisada.\n",
    "\n",
    "col <- 'resting_blood_pressure'\n",
    "\n",
    "# Criando um gráfico de densidade para a variável especificada.\n",
    "\n",
    "densityPlot(col, data)"
   ]
  },
  {
   "cell_type": "markdown",
   "metadata": {
    "colab_type": "text",
    "id": "5UFoeUSSFvBz"
   },
   "source": [
    "Bom, parece que a pressão arterial de todos os indivíudos em repouso apresenta um valor mediano muito próximo independente da existência de problemas cardiovasculares."
   ]
  },
  {
   "cell_type": "code",
   "execution_count": 150,
   "metadata": {
    "colab": {
     "base_uri": "https://localhost:8080/",
     "height": 0
    },
    "colab_type": "code",
    "id": "zjiLE7foNXS4",
    "outputId": "eee294a2-c3b4-4efd-cdad-89a37e2c079b"
   },
   "outputs": [
    {
     "data": {
      "image/png": "[encoded data removed]",
      "text/plain": [
       "plot without title"
      ]
     },
     "metadata": {},
     "output_type": "display_data"
    }
   ],
   "source": [
    "# Criando um gráfico de boxplot para a variável especificada.\n",
    "\n",
    "boxPlot(col, data)"
   ]
  },
  {
   "cell_type": "markdown",
   "metadata": {
    "colab_type": "text",
    "id": "w8p2rY84HENL"
   },
   "source": [
    "O boxplot nos confirma que o valor mediano destes conjuntos de dados está muito próximo; nos permite detectar a exitência de outliers e ainda observar a significativa assimetria à direita dos dados dos indivíduos que apresentam doenças cardíacas."
   ]
  },
  {
   "cell_type": "code",
   "execution_count": 151,
   "metadata": {
    "colab": {
     "base_uri": "https://localhost:8080/",
     "height": 0
    },
    "colab_type": "code",
    "id": "mcuVk6g_NXTA",
    "outputId": "0b0210e2-99b6-4308-f044-c4f389be5a0a"
   },
   "outputs": [
    {
     "data": {
      "text/html": [
       "<table>\n",
       "<thead><tr><th scope=col>heart_disease</th><th scope=col>Min</th><th scope=col>Q1</th><th scope=col>Median</th><th scope=col>mean</th><th scope=col>Q3</th><th scope=col>Max</th><th scope=col>Sd</th><th scope=col>Sk</th><th scope=col>Ck</th></tr></thead>\n",
       "<tbody>\n",
       "\t<tr><td>No       </td><td> 94      </td><td>120      </td><td>130      </td><td>128.8667 </td><td>140      </td><td>180      </td><td>16.45766 </td><td>0.4052933</td><td>0.1702971</td></tr>\n",
       "\t<tr><td>Yes      </td><td>100      </td><td>120      </td><td>130      </td><td>134.4417 </td><td>145      </td><td>200      </td><td>19.09542 </td><td>0.8665313</td><td>0.8092740</td></tr>\n",
       "</tbody>\n",
       "</table>\n"
      ],
      "text/latex": [
       "\\begin{tabular}{r|llllllllll}\n",
       " heart\\_disease & Min & Q1 & Median & mean & Q3 & Max & Sd & Sk & Ck\\\\\n",
       "\\hline\n",
       "\t No        &  94       & 120       & 130       & 128.8667  & 140       & 180       & 16.45766  & 0.4052933 & 0.1702971\\\\\n",
       "\t Yes       & 100       & 120       & 130       & 134.4417  & 145       & 200       & 19.09542  & 0.8665313 & 0.8092740\\\\\n",
       "\\end{tabular}\n"
      ],
      "text/markdown": [
       "\n",
       "| heart_disease | Min | Q1 | Median | mean | Q3 | Max | Sd | Sk | Ck |\n",
       "|---|---|---|---|---|---|---|---|---|---|\n",
       "| No        |  94       | 120       | 130       | 128.8667  | 140       | 180       | 16.45766  | 0.4052933 | 0.1702971 |\n",
       "| Yes       | 100       | 120       | 130       | 134.4417  | 145       | 200       | 19.09542  | 0.8665313 | 0.8092740 |\n",
       "\n"
      ],
      "text/plain": [
       "  heart_disease Min Q1  Median mean     Q3  Max Sd       Sk        Ck       \n",
       "1 No             94 120 130    128.8667 140 180 16.45766 0.4052933 0.1702971\n",
       "2 Yes           100 120 130    134.4417 145 200 19.09542 0.8665313 0.8092740"
      ]
     },
     "metadata": {},
     "output_type": "display_data"
    }
   ],
   "source": [
    "# Calculando algumas estatísticas para a variável especificada.\n",
    "\n",
    "varStats(col, data)"
   ]
  },
  {
   "cell_type": "markdown",
   "metadata": {
    "colab_type": "text",
    "id": "86hLKA2qIwF0"
   },
   "source": [
    "Veja só! O valor médiano para a pressão arterial dos indivíudos em repouso é o mesmo independente de estarem ou não doentes.\n",
    "\n",
    "Note que o coeficiente de assimetria (**Sk**) também comprova nossa teoria de que a distribuição dos indivíduos com problemas cardíacos apresenta uma assimetria à direita.\n",
    "\n",
    "\n",
    "\n"
   ]
  },
  {
   "cell_type": "markdown",
   "metadata": {
    "colab_type": "text",
    "id": "XvqfKGJgycSN"
   },
   "source": [
    "#### **3.4.6 Variável serum_cholestoral**"
   ]
  },
  {
   "cell_type": "code",
   "execution_count": 152,
   "metadata": {
    "colab": {
     "base_uri": "https://localhost:8080/",
     "height": 0
    },
    "colab_type": "code",
    "id": "WsPe9RU0Xm44",
    "outputId": "9362d8d8-25b1-4019-a9d1-fe2a6dea637e"
   },
   "outputs": [
    {
     "data": {
      "image/png": "[encoded data removed]",
      "text/plain": [
       "plot without title"
      ]
     },
     "metadata": {},
     "output_type": "display_data"
    }
   ],
   "source": [
    "# Definindo o nome da variável a ser analisada.\n",
    "\n",
    "col <- 'serum_cholestoral'\n",
    "\n",
    "# Criando um gráfico de densidade para a variável especificada.\n",
    "\n",
    "densityPlot(col, data)"
   ]
  },
  {
   "cell_type": "markdown",
   "metadata": {
    "colab_type": "text",
    "id": "Yv1QSmKrKgYx"
   },
   "source": [
    "O gráfico de densidade está indicando que há uma diferença no valor mediano do colestorol sérico em *mg/dl* entre os individuos classificados com ou sem doenças cardíacas."
   ]
  },
  {
   "cell_type": "code",
   "execution_count": 153,
   "metadata": {
    "colab": {
     "base_uri": "https://localhost:8080/",
     "height": 0
    },
    "colab_type": "code",
    "id": "EQYAQNJzNYI2",
    "outputId": "f2ee4c41-47d2-4c5a-c040-325f12e06fac"
   },
   "outputs": [
    {
     "data": {
      "image/png": "[encoded data removed]",
      "text/plain": [
       "plot without title"
      ]
     },
     "metadata": {},
     "output_type": "display_data"
    }
   ],
   "source": [
    "# Criando um gráfico de boxplot para a variável especificada.\n",
    "\n",
    "boxPlot(col, data)"
   ]
  },
  {
   "cell_type": "code",
   "execution_count": 154,
   "metadata": {
    "colab": {
     "base_uri": "https://localhost:8080/",
     "height": 0
    },
    "colab_type": "code",
    "id": "sMhAmEg2NYI5",
    "outputId": "a7406267-c514-4793-9d1e-529c93d02b45"
   },
   "outputs": [
    {
     "data": {
      "text/html": [
       "<table>\n",
       "<thead><tr><th scope=col>heart_disease</th><th scope=col>Min</th><th scope=col>Q1</th><th scope=col>Median</th><th scope=col>mean</th><th scope=col>Q3</th><th scope=col>Max</th><th scope=col>Sd</th><th scope=col>Sk</th><th scope=col>Ck</th></tr></thead>\n",
       "<tbody>\n",
       "\t<tr><td>No       </td><td>126      </td><td>209.00   </td><td>236.0    </td><td>244.2133 </td><td>268.75   </td><td>564      </td><td>54.01909 </td><td>1.7472631</td><td>7.4636429</td></tr>\n",
       "\t<tr><td>Yes      </td><td>149      </td><td>227.25   </td><td>255.5    </td><td>256.4667 </td><td>286.50   </td><td>409      </td><td>47.96917 </td><td>0.2888262</td><td>0.4057267</td></tr>\n",
       "</tbody>\n",
       "</table>\n"
      ],
      "text/latex": [
       "\\begin{tabular}{r|llllllllll}\n",
       " heart\\_disease & Min & Q1 & Median & mean & Q3 & Max & Sd & Sk & Ck\\\\\n",
       "\\hline\n",
       "\t No        & 126       & 209.00    & 236.0     & 244.2133  & 268.75    & 564       & 54.01909  & 1.7472631 & 7.4636429\\\\\n",
       "\t Yes       & 149       & 227.25    & 255.5     & 256.4667  & 286.50    & 409       & 47.96917  & 0.2888262 & 0.4057267\\\\\n",
       "\\end{tabular}\n"
      ],
      "text/markdown": [
       "\n",
       "| heart_disease | Min | Q1 | Median | mean | Q3 | Max | Sd | Sk | Ck |\n",
       "|---|---|---|---|---|---|---|---|---|---|\n",
       "| No        | 126       | 209.00    | 236.0     | 244.2133  | 268.75    | 564       | 54.01909  | 1.7472631 | 7.4636429 |\n",
       "| Yes       | 149       | 227.25    | 255.5     | 256.4667  | 286.50    | 409       | 47.96917  | 0.2888262 | 0.4057267 |\n",
       "\n"
      ],
      "text/plain": [
       "  heart_disease Min Q1     Median mean     Q3     Max Sd       Sk       \n",
       "1 No            126 209.00 236.0  244.2133 268.75 564 54.01909 1.7472631\n",
       "2 Yes           149 227.25 255.5  256.4667 286.50 409 47.96917 0.2888262\n",
       "  Ck       \n",
       "1 7.4636429\n",
       "2 0.4057267"
      ]
     },
     "metadata": {},
     "output_type": "display_data"
    }
   ],
   "source": [
    "# Calculando algumas estatísticas para a variável especificada.\n",
    "\n",
    "varStats(col, data)"
   ]
  },
  {
   "cell_type": "markdown",
   "metadata": {
    "colab_type": "text",
    "id": "TSGikj3MNGVJ"
   },
   "source": [
    "Concluímos que a diferença mediana entre as classes é de **19.5** *mg/dl*."
   ]
  },
  {
   "cell_type": "markdown",
   "metadata": {
    "colab_type": "text",
    "id": "sOsp8qzKyiB7"
   },
   "source": [
    "#### **3.4.7 Variável fasting_blood_sugar**"
   ]
  },
  {
   "cell_type": "code",
   "execution_count": 155,
   "metadata": {
    "colab": {
     "base_uri": "https://localhost:8080/",
     "height": 0
    },
    "colab_type": "code",
    "id": "hC7_9R3NNZkj",
    "outputId": "0aef5fda-74fd-4c0a-ce79-dbdef7deedaa"
   },
   "outputs": [
    {
     "data": {
      "image/png": "[encoded data removed]",
      "text/plain": [
       "plot without title"
      ]
     },
     "metadata": {},
     "output_type": "display_data"
    }
   ],
   "source": [
    "# Definindo o nome da variável a ser analisada.\n",
    "\n",
    "col <- 'fasting_blood_sugar'\n",
    "\n",
    "# Criando um gráfico de barras para a variável especificada.\n",
    "\n",
    "barPlot(col, data)"
   ]
  },
  {
   "cell_type": "markdown",
   "metadata": {
    "colab_type": "text",
    "id": "yahjvYiYOy0J"
   },
   "source": [
    "Interessante! A maior parte dos indivíduos registrados não possuem uma taxa de açúcar no sangue em jejum maior do que 120 *mg/dl*."
   ]
  },
  {
   "cell_type": "code",
   "execution_count": 156,
   "metadata": {
    "colab": {
     "base_uri": "https://localhost:8080/",
     "height": 0
    },
    "colab_type": "code",
    "id": "BQTZExMpNr6U",
    "outputId": "d8352f9b-12d0-4d91-d99d-d336c9ef8a3f"
   },
   "outputs": [
    {
     "data": {
      "text/html": [
       "<table>\n",
       "<thead><tr><th scope=col>fasting_blood_sugar</th><th scope=col>count</th><th scope=col>prop</th></tr></thead>\n",
       "<tbody>\n",
       "\t<tr><td>No      </td><td>230     </td><td>85.18519</td></tr>\n",
       "\t<tr><td>Yes     </td><td> 40     </td><td>14.81481</td></tr>\n",
       "</tbody>\n",
       "</table>\n"
      ],
      "text/latex": [
       "\\begin{tabular}{r|lll}\n",
       " fasting\\_blood\\_sugar & count & prop\\\\\n",
       "\\hline\n",
       "\t No       & 230      & 85.18519\\\\\n",
       "\t Yes      &  40      & 14.81481\\\\\n",
       "\\end{tabular}\n"
      ],
      "text/markdown": [
       "\n",
       "| fasting_blood_sugar | count | prop |\n",
       "|---|---|---|\n",
       "| No       | 230      | 85.18519 |\n",
       "| Yes      |  40      | 14.81481 |\n",
       "\n"
      ],
      "text/plain": [
       "  fasting_blood_sugar count prop    \n",
       "1 No                  230   85.18519\n",
       "2 Yes                  40   14.81481"
      ]
     },
     "metadata": {},
     "output_type": "display_data"
    }
   ],
   "source": [
    "# Calculando algumas estatísticas para a variável especificada.\n",
    "\n",
    "stats <- varStats(col, data)\n",
    "\n",
    "# Verificando a distribuição de registros entre as classes da variável.\n",
    "\n",
    "stats$variableClasses"
   ]
  },
  {
   "cell_type": "markdown",
   "metadata": {
    "colab_type": "text",
    "id": "-IT1vN_mPbB8"
   },
   "source": [
    "Aproximadamente **14.8%** dos indivíduos registrados apresentam uma taxa de açúcar no sangue em jejum **maior** do que 120 *mg/dl*."
   ]
  },
  {
   "cell_type": "code",
   "execution_count": 157,
   "metadata": {
    "colab": {
     "base_uri": "https://localhost:8080/",
     "height": 0
    },
    "colab_type": "code",
    "id": "_340O3RgNr6j",
    "outputId": "e9e8952c-17b8-4954-8e7d-bc8615e72086"
   },
   "outputs": [
    {
     "data": {
      "text/html": [
       "<table>\n",
       "<thead><tr><th scope=col>fasting_blood_sugar</th><th scope=col>heart_disease</th><th scope=col>count</th><th scope=col>prop</th></tr></thead>\n",
       "<tbody>\n",
       "\t<tr><td>No       </td><td>No       </td><td>127      </td><td>47.037037</td></tr>\n",
       "\t<tr><td>No       </td><td>Yes      </td><td>103      </td><td>38.148148</td></tr>\n",
       "\t<tr><td>Yes      </td><td>No       </td><td> 23      </td><td> 8.518519</td></tr>\n",
       "\t<tr><td>Yes      </td><td>Yes      </td><td> 17      </td><td> 6.296296</td></tr>\n",
       "</tbody>\n",
       "</table>\n"
      ],
      "text/latex": [
       "\\begin{tabular}{r|llll}\n",
       " fasting\\_blood\\_sugar & heart\\_disease & count & prop\\\\\n",
       "\\hline\n",
       "\t No        & No        & 127       & 47.037037\\\\\n",
       "\t No        & Yes       & 103       & 38.148148\\\\\n",
       "\t Yes       & No        &  23       &  8.518519\\\\\n",
       "\t Yes       & Yes       &  17       &  6.296296\\\\\n",
       "\\end{tabular}\n"
      ],
      "text/markdown": [
       "\n",
       "| fasting_blood_sugar | heart_disease | count | prop |\n",
       "|---|---|---|---|\n",
       "| No        | No        | 127       | 47.037037 |\n",
       "| No        | Yes       | 103       | 38.148148 |\n",
       "| Yes       | No        |  23       |  8.518519 |\n",
       "| Yes       | Yes       |  17       |  6.296296 |\n",
       "\n"
      ],
      "text/plain": [
       "  fasting_blood_sugar heart_disease count prop     \n",
       "1 No                  No            127   47.037037\n",
       "2 No                  Yes           103   38.148148\n",
       "3 Yes                 No             23    8.518519\n",
       "4 Yes                 Yes            17    6.296296"
      ]
     },
     "metadata": {},
     "output_type": "display_data"
    }
   ],
   "source": [
    "# Verificando a distribuição de registros entre as classes da variável especificada agrupadas pela variável alvo.\n",
    "\n",
    "stats$variableClassesGroupedByTargetVariable"
   ]
  },
  {
   "cell_type": "markdown",
   "metadata": {
    "colab_type": "text",
    "id": "D6ibjiKMVPem"
   },
   "source": [
    "Está tabela nos informa a proporção de registros em cada uma das classes da variável que avalia a taxa de açúcar no sangue agrupadas em subgrupos que indicam se o índividuo possui ou não problemas cardíacos. Mas, para este caso as informações fornecidas não nos ajudam a extrair muitas informações interessantes.\n",
    "\n",
    "Por isso, vamos criar outra tabela em que dividimos a coluna **count** pelo número total de registros classificados em cada grupo da variável **fasting_blood_sugar** e recalcularemos as proporções. De maneira simples, o que estamos querendo é determinar se a proporção de indivíduos com problemas cardíacos varia muito entre a classe de indivíduos que apresentam ou não uma taxa de açúcar no sangue em jejum *maior* do que 120 *mg/dl*."
   ]
  },
  {
   "cell_type": "code",
   "execution_count": 158,
   "metadata": {
    "colab": {
     "base_uri": "https://localhost:8080/",
     "height": 0
    },
    "colab_type": "code",
    "id": "MytTSdNkUUF3",
    "outputId": "55273f08-f027-4993-dac9-2df63eca2be6"
   },
   "outputs": [
    {
     "data": {
      "text/html": [
       "<table>\n",
       "<thead><tr><th scope=col>fasting_blood_sugar</th><th scope=col>heart_disease</th><th scope=col>count</th><th scope=col>prop</th></tr></thead>\n",
       "<tbody>\n",
       "\t<tr><td>No      </td><td>No      </td><td>127     </td><td>55.21739</td></tr>\n",
       "\t<tr><td>No      </td><td>Yes     </td><td>103     </td><td>44.78261</td></tr>\n",
       "\t<tr><td>Yes     </td><td>No      </td><td> 23     </td><td>57.50000</td></tr>\n",
       "\t<tr><td>Yes     </td><td>Yes     </td><td> 17     </td><td>42.50000</td></tr>\n",
       "</tbody>\n",
       "</table>\n"
      ],
      "text/latex": [
       "\\begin{tabular}{r|llll}\n",
       " fasting\\_blood\\_sugar & heart\\_disease & count & prop\\\\\n",
       "\\hline\n",
       "\t No       & No       & 127      & 55.21739\\\\\n",
       "\t No       & Yes      & 103      & 44.78261\\\\\n",
       "\t Yes      & No       &  23      & 57.50000\\\\\n",
       "\t Yes      & Yes      &  17      & 42.50000\\\\\n",
       "\\end{tabular}\n"
      ],
      "text/markdown": [
       "\n",
       "| fasting_blood_sugar | heart_disease | count | prop |\n",
       "|---|---|---|---|\n",
       "| No       | No       | 127      | 55.21739 |\n",
       "| No       | Yes      | 103      | 44.78261 |\n",
       "| Yes      | No       |  23      | 57.50000 |\n",
       "| Yes      | Yes      |  17      | 42.50000 |\n",
       "\n"
      ],
      "text/plain": [
       "  fasting_blood_sugar heart_disease count prop    \n",
       "1 No                  No            127   55.21739\n",
       "2 No                  Yes           103   44.78261\n",
       "3 Yes                 No             23   57.50000\n",
       "4 Yes                 Yes            17   42.50000"
      ]
     },
     "metadata": {},
     "output_type": "display_data"
    }
   ],
   "source": [
    "# Calculando as proporções de indivíduos com ou sem problemas cardíacos dentro de cada classe da variável especificada.\n",
    "\n",
    "stats$variableClassesGroupedByTargetVariable %>%\n",
    "    group_by(fasting_blood_sugar) %>%\n",
    "    mutate(prop = count / sum(count) * 100)"
   ]
  },
  {
   "cell_type": "markdown",
   "metadata": {
    "colab_type": "text",
    "id": "gLhyyYVlURPQ"
   },
   "source": [
    "Vemos que as proporções são bem próximas. \n",
    "\n",
    "Dentro da classe de indivíduos que **não** possuem uma taxa de açúcar no sangue em jejum maior do que 120 *mg/dl*, aproximadamente **55.2%** tem um coração sadio enquanto **44.8%** possuem doenças.\n",
    "\n",
    "Dentro da classe de indivíduos que possuem uma taxa de açúcar no sangue em jejum maior do que 120 *mg/dl*, **57.5%** tem um coração sadio enquanto **42.5%** possuem doenças."
   ]
  },
  {
   "cell_type": "markdown",
   "metadata": {
    "colab_type": "text",
    "id": "jjlBr2tsymcC"
   },
   "source": [
    "#### **3.4.8 Variável resting_electro_results**"
   ]
  },
  {
   "cell_type": "code",
   "execution_count": 159,
   "metadata": {
    "colab": {
     "base_uri": "https://localhost:8080/",
     "height": 0
    },
    "colab_type": "code",
    "id": "n2RPqI9hNbFT",
    "outputId": "c2dfedf3-4855-44c6-c032-e4418aa7ec78"
   },
   "outputs": [
    {
     "data": {
      "image/png": "[encoded data removed]",
      "text/plain": [
       "plot without title"
      ]
     },
     "metadata": {},
     "output_type": "display_data"
    }
   ],
   "source": [
    "# Definindo o nome da variável a ser analisada.\n",
    "\n",
    "col <- 'resting_electro_results'\n",
    "\n",
    "# Criando um gráfico de barras para a variável especificada.\n",
    "\n",
    "barPlot(col, data)"
   ]
  },
  {
   "cell_type": "markdown",
   "metadata": {
    "colab_type": "text",
    "id": "23PEDqSveNnN"
   },
   "source": [
    "Os resultados eletrocardiográficos em repouso que apresentam **valor 0** estão predominantemente associados a indivíduos que não possuem doenças enquanto aqueles classificados com o **valor 2** estão predominantemente associados a índivíduos doentes.  "
   ]
  },
  {
   "cell_type": "code",
   "execution_count": 160,
   "metadata": {
    "colab": {
     "base_uri": "https://localhost:8080/",
     "height": 0
    },
    "colab_type": "code",
    "id": "3yWQTbt7dLiV",
    "outputId": "22ecaf05-4866-4e5e-d3e5-dc6ec86dbc29"
   },
   "outputs": [
    {
     "data": {
      "text/html": [
       "<table>\n",
       "<thead><tr><th scope=col>resting_electro_results</th><th scope=col>count</th><th scope=col>prop</th></tr></thead>\n",
       "<tbody>\n",
       "\t<tr><td>0         </td><td>131       </td><td>48.5185185</td></tr>\n",
       "\t<tr><td>1         </td><td>  2       </td><td> 0.7407407</td></tr>\n",
       "\t<tr><td>2         </td><td>137       </td><td>50.7407407</td></tr>\n",
       "</tbody>\n",
       "</table>\n"
      ],
      "text/latex": [
       "\\begin{tabular}{r|lll}\n",
       " resting\\_electro\\_results & count & prop\\\\\n",
       "\\hline\n",
       "\t 0          & 131        & 48.5185185\\\\\n",
       "\t 1          &   2        &  0.7407407\\\\\n",
       "\t 2          & 137        & 50.7407407\\\\\n",
       "\\end{tabular}\n"
      ],
      "text/markdown": [
       "\n",
       "| resting_electro_results | count | prop |\n",
       "|---|---|---|\n",
       "| 0          | 131        | 48.5185185 |\n",
       "| 1          |   2        |  0.7407407 |\n",
       "| 2          | 137        | 50.7407407 |\n",
       "\n"
      ],
      "text/plain": [
       "  resting_electro_results count prop      \n",
       "1 0                       131   48.5185185\n",
       "2 1                         2    0.7407407\n",
       "3 2                       137   50.7407407"
      ]
     },
     "metadata": {},
     "output_type": "display_data"
    }
   ],
   "source": [
    "# Calculando algumas estatísticas para a variável especificada.\n",
    "\n",
    "stats <- varStats(col, data)\n",
    "\n",
    "# Verificando a distribuição de registros entre as classes da variável.\n",
    "\n",
    "stats$variableClasses"
   ]
  },
  {
   "cell_type": "markdown",
   "metadata": {
    "colab_type": "text",
    "id": "M2osYJ32fRic"
   },
   "source": [
    "Os resultados eletrocardiográficos em repouso que obtiveram o **valor 1** são aqueles que apresentam a menor proporção dentro do conjunto de dados, aproximadamente **0.74%**."
   ]
  },
  {
   "cell_type": "code",
   "execution_count": 161,
   "metadata": {
    "colab": {
     "base_uri": "https://localhost:8080/",
     "height": 0
    },
    "colab_type": "code",
    "id": "oQQaGZOxdLil",
    "outputId": "ccb44c3b-c6fe-408a-de8e-78828be35cf5"
   },
   "outputs": [
    {
     "data": {
      "text/html": [
       "<table>\n",
       "<thead><tr><th scope=col>resting_electro_results</th><th scope=col>heart_disease</th><th scope=col>count</th><th scope=col>prop</th></tr></thead>\n",
       "<tbody>\n",
       "\t<tr><td>0         </td><td>No        </td><td>85        </td><td>31.4814815</td></tr>\n",
       "\t<tr><td>0         </td><td>Yes       </td><td>46        </td><td>17.0370370</td></tr>\n",
       "\t<tr><td>1         </td><td>No        </td><td> 1        </td><td> 0.3703704</td></tr>\n",
       "\t<tr><td>1         </td><td>Yes       </td><td> 1        </td><td> 0.3703704</td></tr>\n",
       "\t<tr><td>2         </td><td>No        </td><td>64        </td><td>23.7037037</td></tr>\n",
       "\t<tr><td>2         </td><td>Yes       </td><td>73        </td><td>27.0370370</td></tr>\n",
       "</tbody>\n",
       "</table>\n"
      ],
      "text/latex": [
       "\\begin{tabular}{r|llll}\n",
       " resting\\_electro\\_results & heart\\_disease & count & prop\\\\\n",
       "\\hline\n",
       "\t 0          & No         & 85         & 31.4814815\\\\\n",
       "\t 0          & Yes        & 46         & 17.0370370\\\\\n",
       "\t 1          & No         &  1         &  0.3703704\\\\\n",
       "\t 1          & Yes        &  1         &  0.3703704\\\\\n",
       "\t 2          & No         & 64         & 23.7037037\\\\\n",
       "\t 2          & Yes        & 73         & 27.0370370\\\\\n",
       "\\end{tabular}\n"
      ],
      "text/markdown": [
       "\n",
       "| resting_electro_results | heart_disease | count | prop |\n",
       "|---|---|---|---|\n",
       "| 0          | No         | 85         | 31.4814815 |\n",
       "| 0          | Yes        | 46         | 17.0370370 |\n",
       "| 1          | No         |  1         |  0.3703704 |\n",
       "| 1          | Yes        |  1         |  0.3703704 |\n",
       "| 2          | No         | 64         | 23.7037037 |\n",
       "| 2          | Yes        | 73         | 27.0370370 |\n",
       "\n"
      ],
      "text/plain": [
       "  resting_electro_results heart_disease count prop      \n",
       "1 0                       No            85    31.4814815\n",
       "2 0                       Yes           46    17.0370370\n",
       "3 1                       No             1     0.3703704\n",
       "4 1                       Yes            1     0.3703704\n",
       "5 2                       No            64    23.7037037\n",
       "6 2                       Yes           73    27.0370370"
      ]
     },
     "metadata": {},
     "output_type": "display_data"
    }
   ],
   "source": [
    "# Verificando a distribuição de registros entre as classes da variável especificada agrupadas pela variável alvo.\n",
    "\n",
    "stats$variableClassesGroupedByTargetVariable"
   ]
  },
  {
   "cell_type": "markdown",
   "metadata": {
    "colab_type": "text",
    "id": "xXl8ZRhFgERB"
   },
   "source": [
    "Destacamos que dentro dos resultados eletrocardiográficos em repouso classificados com o **valor 0**, a quantidade de indivíduos que são sadios é cerca de **1.85** vezes **maior** do que aqueles que são doentes.  "
   ]
  },
  {
   "cell_type": "markdown",
   "metadata": {
    "colab_type": "text",
    "id": "26fVL-K8ysjI"
   },
   "source": [
    "#### **3.4.9 Variável max_heart_rate_achieved**"
   ]
  },
  {
   "cell_type": "code",
   "execution_count": 162,
   "metadata": {
    "colab": {
     "base_uri": "https://localhost:8080/",
     "height": 0
    },
    "colab_type": "code",
    "id": "16atc74_YJ1Y",
    "outputId": "b50bd078-bd2b-4df6-cc5c-0aaa4118139b"
   },
   "outputs": [
    {
     "data": {
      "image/png": "[encoded data removed]",
      "text/plain": [
       "plot without title"
      ]
     },
     "metadata": {},
     "output_type": "display_data"
    }
   ],
   "source": [
    "# Definindo o nome da variável a ser analisada.\n",
    "\n",
    "col <- 'max_heart_rate_achieved'\n",
    "\n",
    "# Criando um gráfico de densidade para a variável especificada.\n",
    "\n",
    "densityPlot(col, data)"
   ]
  },
  {
   "cell_type": "markdown",
   "metadata": {
    "colab_type": "text",
    "id": "xj0e1tkxpahK"
   },
   "source": [
    "Parece que o número mediano de batimentos cardíacos por minuto dos indivíduos sádios é maior do que o dos indivíduos com doenças."
   ]
  },
  {
   "cell_type": "code",
   "execution_count": 163,
   "metadata": {
    "colab": {
     "base_uri": "https://localhost:8080/",
     "height": 0
    },
    "colab_type": "code",
    "id": "1ruEShndNcp_",
    "outputId": "26f67adb-a09c-448e-ab31-05c1d890eae4"
   },
   "outputs": [
    {
     "data": {
      "image/png": "[encoded data removed]",
      "text/plain": [
       "plot without title"
      ]
     },
     "metadata": {},
     "output_type": "display_data"
    }
   ],
   "source": [
    "# Criando um gráfico de boxplot para a variável especificada.\n",
    "\n",
    "boxPlot(col, data)"
   ]
  },
  {
   "cell_type": "markdown",
   "metadata": {
    "colab_type": "text",
    "id": "_dW403P0qYC5"
   },
   "source": [
    "Detectamos a existência de outliers dentro dos dois subconjuntos analisados."
   ]
  },
  {
   "cell_type": "code",
   "execution_count": 164,
   "metadata": {
    "colab": {
     "base_uri": "https://localhost:8080/",
     "height": 0
    },
    "colab_type": "code",
    "id": "tZCQJrF5NcqH",
    "outputId": "c31bacc9-ba83-488e-f27b-34b4a62631d4"
   },
   "outputs": [
    {
     "data": {
      "text/html": [
       "<table>\n",
       "<thead><tr><th scope=col>heart_disease</th><th scope=col>Min</th><th scope=col>Q1</th><th scope=col>Median</th><th scope=col>mean</th><th scope=col>Q3</th><th scope=col>Max</th><th scope=col>Sd</th><th scope=col>Sk</th><th scope=col>Ck</th></tr></thead>\n",
       "<tbody>\n",
       "\t<tr><td>No        </td><td>96        </td><td>148.25    </td><td>161.0     </td><td>158.3333  </td><td>172.00    </td><td>202       </td><td>19.28336  </td><td>-0.6639215</td><td> 0.3710206</td></tr>\n",
       "\t<tr><td>Yes       </td><td>71        </td><td>124.75    </td><td>141.5     </td><td>138.8583  </td><td>157.25    </td><td>195       </td><td>23.13072  </td><td>-0.2390985</td><td>-0.3985598</td></tr>\n",
       "</tbody>\n",
       "</table>\n"
      ],
      "text/latex": [
       "\\begin{tabular}{r|llllllllll}\n",
       " heart\\_disease & Min & Q1 & Median & mean & Q3 & Max & Sd & Sk & Ck\\\\\n",
       "\\hline\n",
       "\t No         & 96         & 148.25     & 161.0      & 158.3333   & 172.00     & 202        & 19.28336   & -0.6639215 &  0.3710206\\\\\n",
       "\t Yes        & 71         & 124.75     & 141.5      & 138.8583   & 157.25     & 195        & 23.13072   & -0.2390985 & -0.3985598\\\\\n",
       "\\end{tabular}\n"
      ],
      "text/markdown": [
       "\n",
       "| heart_disease | Min | Q1 | Median | mean | Q3 | Max | Sd | Sk | Ck |\n",
       "|---|---|---|---|---|---|---|---|---|---|\n",
       "| No         | 96         | 148.25     | 161.0      | 158.3333   | 172.00     | 202        | 19.28336   | -0.6639215 |  0.3710206 |\n",
       "| Yes        | 71         | 124.75     | 141.5      | 138.8583   | 157.25     | 195        | 23.13072   | -0.2390985 | -0.3985598 |\n",
       "\n"
      ],
      "text/plain": [
       "  heart_disease Min Q1     Median mean     Q3     Max Sd       Sk        \n",
       "1 No            96  148.25 161.0  158.3333 172.00 202 19.28336 -0.6639215\n",
       "2 Yes           71  124.75 141.5  138.8583 157.25 195 23.13072 -0.2390985\n",
       "  Ck        \n",
       "1  0.3710206\n",
       "2 -0.3985598"
      ]
     },
     "metadata": {},
     "output_type": "display_data"
    }
   ],
   "source": [
    "# Calculando algumas estatísticas para a variável especificada.\n",
    "\n",
    "varStats(col, data)"
   ]
  },
  {
   "cell_type": "markdown",
   "metadata": {
    "colab_type": "text",
    "id": "YK21fKLyrpWK"
   },
   "source": [
    "Bom, como suspeitávamos pessoas com doenças cardiovasculares apresentam um número mediano menor de batimentos cardíacos (cerca de **21 batimentos** a menos). Também observamos que o conjunto de dados de índividuos sadios tem um desvio-padrão **menor**.  "
   ]
  },
  {
   "cell_type": "markdown",
   "metadata": {
    "colab_type": "text",
    "id": "bmnzwI3iyxR8"
   },
   "source": [
    "#### **3.4.10 Variável exercise_induced_angina**"
   ]
  },
  {
   "cell_type": "code",
   "execution_count": 165,
   "metadata": {
    "colab": {
     "base_uri": "https://localhost:8080/",
     "height": 0
    },
    "colab_type": "code",
    "id": "nGjLZLRYNePD",
    "outputId": "b8269532-596c-4591-bca4-5e34bd149683"
   },
   "outputs": [
    {
     "data": {
      "image/png": "[encoded data removed]",
      "text/plain": [
       "plot without title"
      ]
     },
     "metadata": {},
     "output_type": "display_data"
    }
   ],
   "source": [
    "# Definindo o nome da variável a ser analisada.\n",
    "\n",
    "col <- 'exercise_induced_angina'\n",
    "\n",
    "# Criando um gráfico de barras para a variável especificada.\n",
    "\n",
    "barPlot(col, data)"
   ]
  },
  {
   "cell_type": "markdown",
   "metadata": {
    "colab_type": "text",
    "id": "HlnJ4FSY2_b_"
   },
   "source": [
    "Vemos que predominantemente não há dor no peito induzida por exercício para os indivíduos sadios, enquanto a maior parte dos doentes registraram sentir algo."
   ]
  },
  {
   "cell_type": "code",
   "execution_count": 166,
   "metadata": {
    "colab": {
     "base_uri": "https://localhost:8080/",
     "height": 0
    },
    "colab_type": "code",
    "id": "tn-kN_HG13PP",
    "outputId": "9f100630-6a58-4393-95d1-97c0ccbe44fe"
   },
   "outputs": [
    {
     "data": {
      "text/html": [
       "<table>\n",
       "<thead><tr><th scope=col>exercise_induced_angina</th><th scope=col>count</th><th scope=col>prop</th></tr></thead>\n",
       "<tbody>\n",
       "\t<tr><td>No      </td><td>181     </td><td>67.03704</td></tr>\n",
       "\t<tr><td>Yes     </td><td> 89     </td><td>32.96296</td></tr>\n",
       "</tbody>\n",
       "</table>\n"
      ],
      "text/latex": [
       "\\begin{tabular}{r|lll}\n",
       " exercise\\_induced\\_angina & count & prop\\\\\n",
       "\\hline\n",
       "\t No       & 181      & 67.03704\\\\\n",
       "\t Yes      &  89      & 32.96296\\\\\n",
       "\\end{tabular}\n"
      ],
      "text/markdown": [
       "\n",
       "| exercise_induced_angina | count | prop |\n",
       "|---|---|---|\n",
       "| No       | 181      | 67.03704 |\n",
       "| Yes      |  89      | 32.96296 |\n",
       "\n"
      ],
      "text/plain": [
       "  exercise_induced_angina count prop    \n",
       "1 No                      181   67.03704\n",
       "2 Yes                      89   32.96296"
      ]
     },
     "metadata": {},
     "output_type": "display_data"
    }
   ],
   "source": [
    "# Calculando algumas estatísticas para a variável especificada.\n",
    "\n",
    "stats <- varStats(col, data)\n",
    "\n",
    "# Verificando a distribuição de registros entre as classes da variável.\n",
    "\n",
    "stats$variableClasses"
   ]
  },
  {
   "cell_type": "markdown",
   "metadata": {
    "colab_type": "text",
    "id": "kkG1VlHo4p9D"
   },
   "source": [
    "Observamos que em aproximadamente **67%** dos registros os indivíduos não sentiram dor no peito."
   ]
  },
  {
   "cell_type": "code",
   "execution_count": 167,
   "metadata": {
    "colab": {
     "base_uri": "https://localhost:8080/",
     "height": 0
    },
    "colab_type": "code",
    "id": "SCGCLi9c13Pd",
    "outputId": "ad3ab28b-d45f-4d82-adfd-21c44e25910b"
   },
   "outputs": [
    {
     "data": {
      "text/html": [
       "<table>\n",
       "<thead><tr><th scope=col>exercise_induced_angina</th><th scope=col>heart_disease</th><th scope=col>count</th><th scope=col>prop</th></tr></thead>\n",
       "<tbody>\n",
       "\t<tr><td>No       </td><td>No       </td><td>127      </td><td>47.037037</td></tr>\n",
       "\t<tr><td>No       </td><td>Yes      </td><td> 54      </td><td>20.000000</td></tr>\n",
       "\t<tr><td>Yes      </td><td>No       </td><td> 23      </td><td> 8.518519</td></tr>\n",
       "\t<tr><td>Yes      </td><td>Yes      </td><td> 66      </td><td>24.444444</td></tr>\n",
       "</tbody>\n",
       "</table>\n"
      ],
      "text/latex": [
       "\\begin{tabular}{r|llll}\n",
       " exercise\\_induced\\_angina & heart\\_disease & count & prop\\\\\n",
       "\\hline\n",
       "\t No        & No        & 127       & 47.037037\\\\\n",
       "\t No        & Yes       &  54       & 20.000000\\\\\n",
       "\t Yes       & No        &  23       &  8.518519\\\\\n",
       "\t Yes       & Yes       &  66       & 24.444444\\\\\n",
       "\\end{tabular}\n"
      ],
      "text/markdown": [
       "\n",
       "| exercise_induced_angina | heart_disease | count | prop |\n",
       "|---|---|---|---|\n",
       "| No        | No        | 127       | 47.037037 |\n",
       "| No        | Yes       |  54       | 20.000000 |\n",
       "| Yes       | No        |  23       |  8.518519 |\n",
       "| Yes       | Yes       |  66       | 24.444444 |\n",
       "\n"
      ],
      "text/plain": [
       "  exercise_induced_angina heart_disease count prop     \n",
       "1 No                      No            127   47.037037\n",
       "2 No                      Yes            54   20.000000\n",
       "3 Yes                     No             23    8.518519\n",
       "4 Yes                     Yes            66   24.444444"
      ]
     },
     "metadata": {},
     "output_type": "display_data"
    }
   ],
   "source": [
    "# Verificando a distribuição de registros entre as classes da variável especificada agrupadas pela variável alvo.\n",
    "\n",
    "stats$variableClassesGroupedByTargetVariable"
   ]
  },
  {
   "cell_type": "markdown",
   "metadata": {
    "colab_type": "text",
    "id": "Dkis0WS048t6"
   },
   "source": [
    "Por fim, verificamos que cerca de **24.4%** dos indivíduos apresenta dor no peito induzida por execícios e efetivamente possui doenças cardíacas."
   ]
  },
  {
   "cell_type": "markdown",
   "metadata": {
    "colab_type": "text",
    "id": "S0Vs_8o6zjLP"
   },
   "source": [
    "#### **3.4.11 Variável oldpeak**"
   ]
  },
  {
   "cell_type": "code",
   "execution_count": 168,
   "metadata": {
    "colab": {
     "base_uri": "https://localhost:8080/",
     "height": 0
    },
    "colab_type": "code",
    "id": "hT_9tUriY25W",
    "outputId": "e6e5a743-9114-4478-fe44-daeea8cb4d3e"
   },
   "outputs": [
    {
     "data": {
      "image/png": "[encoded data removed]",
      "text/plain": [
       "plot without title"
      ]
     },
     "metadata": {},
     "output_type": "display_data"
    }
   ],
   "source": [
    "# Definindo o nome da variável a ser analisada.\n",
    "\n",
    "col <- 'oldpeak'\n",
    "\n",
    "# Criando um gráfico de densidade para a variável especificada.\n",
    "\n",
    "densityPlot(col, data)"
   ]
  },
  {
   "cell_type": "markdown",
   "metadata": {
    "colab_type": "text",
    "id": "TgPCVpi86lFd"
   },
   "source": [
    "Podemos ver uma clara diferença entre a distribuição desta medida de anormalidade nos eletrocardiogramas entre o conjunto de indivíduos sadios e os doentes."
   ]
  },
  {
   "cell_type": "code",
   "execution_count": 169,
   "metadata": {
    "colab": {
     "base_uri": "https://localhost:8080/",
     "height": 0
    },
    "colab_type": "code",
    "id": "gWwIBTtl678z",
    "outputId": "a3fc4f26-9204-4699-8ff6-cf768ec3d957"
   },
   "outputs": [
    {
     "data": {
      "image/png": "[encoded data removed]",
      "text/plain": [
       "plot without title"
      ]
     },
     "metadata": {},
     "output_type": "display_data"
    }
   ],
   "source": [
    "# Criando um gráfico de boxplot para a variável especificada.\n",
    "\n",
    "boxPlot(col, data)"
   ]
  },
  {
   "cell_type": "markdown",
   "metadata": {
    "colab_type": "text",
    "id": "47c25FFG7PID"
   },
   "source": [
    "Descobrimos a existência de outliers dentro dos conjuntos.\n",
    "\n",
    "Note que esta medida de anormalidade tende a se concentrar próximo de um valor quando analisamos o conjunto de indivíduos saudáveis.\n",
    "\n",
    "Quanto estudamos o conjunto de dados de pessoas doentes vemos que esta medida tende a variar muito mais."
   ]
  },
  {
   "cell_type": "code",
   "execution_count": 170,
   "metadata": {
    "colab": {
     "base_uri": "https://localhost:8080/",
     "height": 0
    },
    "colab_type": "code",
    "id": "9U2JMPTFYxyB",
    "outputId": "a8aebdf9-7c9a-43a6-91d8-647c20674ad6"
   },
   "outputs": [
    {
     "data": {
      "text/html": [
       "<table>\n",
       "<thead><tr><th scope=col>heart_disease</th><th scope=col>Min</th><th scope=col>Q1</th><th scope=col>Median</th><th scope=col>mean</th><th scope=col>Q3</th><th scope=col>Max</th><th scope=col>Sd</th><th scope=col>Sk</th><th scope=col>Ck</th></tr></thead>\n",
       "<tbody>\n",
       "\t<tr><td>No       </td><td>0        </td><td>0.0      </td><td>0.2      </td><td>0.6226667</td><td>1.175    </td><td>4.2      </td><td>0.8008508</td><td>1.5252325</td><td>2.6036596</td></tr>\n",
       "\t<tr><td>Yes      </td><td>0        </td><td>0.6      </td><td>1.4      </td><td>1.5841667</td><td>2.425    </td><td>6.2      </td><td>1.2820674</td><td>0.7569866</td><td>0.5796318</td></tr>\n",
       "</tbody>\n",
       "</table>\n"
      ],
      "text/latex": [
       "\\begin{tabular}{r|llllllllll}\n",
       " heart\\_disease & Min & Q1 & Median & mean & Q3 & Max & Sd & Sk & Ck\\\\\n",
       "\\hline\n",
       "\t No        & 0         & 0.0       & 0.2       & 0.6226667 & 1.175     & 4.2       & 0.8008508 & 1.5252325 & 2.6036596\\\\\n",
       "\t Yes       & 0         & 0.6       & 1.4       & 1.5841667 & 2.425     & 6.2       & 1.2820674 & 0.7569866 & 0.5796318\\\\\n",
       "\\end{tabular}\n"
      ],
      "text/markdown": [
       "\n",
       "| heart_disease | Min | Q1 | Median | mean | Q3 | Max | Sd | Sk | Ck |\n",
       "|---|---|---|---|---|---|---|---|---|---|\n",
       "| No        | 0         | 0.0       | 0.2       | 0.6226667 | 1.175     | 4.2       | 0.8008508 | 1.5252325 | 2.6036596 |\n",
       "| Yes       | 0         | 0.6       | 1.4       | 1.5841667 | 2.425     | 6.2       | 1.2820674 | 0.7569866 | 0.5796318 |\n",
       "\n"
      ],
      "text/plain": [
       "  heart_disease Min Q1  Median mean      Q3    Max Sd        Sk       \n",
       "1 No            0   0.0 0.2    0.6226667 1.175 4.2 0.8008508 1.5252325\n",
       "2 Yes           0   0.6 1.4    1.5841667 2.425 6.2 1.2820674 0.7569866\n",
       "  Ck       \n",
       "1 2.6036596\n",
       "2 0.5796318"
      ]
     },
     "metadata": {},
     "output_type": "display_data"
    }
   ],
   "source": [
    "# Calculando algumas estatísticas para a variável especificada.\n",
    "\n",
    "varStats(col, data)"
   ]
  },
  {
   "cell_type": "markdown",
   "metadata": {
    "colab_type": "text",
    "id": "0XZYNGI68jRE"
   },
   "source": [
    "Concluímos destacando a diferença entre os valores medianos dos conjuntos e os altos índices de *Assimetria* e *Curtose* do grupo de indivíduos sem doenças. "
   ]
  },
  {
   "cell_type": "markdown",
   "metadata": {
    "colab_type": "text",
    "id": "-TpWtETczjUJ"
   },
   "source": [
    "#### **3.4.12 Variável slope_of_the_peak**"
   ]
  },
  {
   "cell_type": "code",
   "execution_count": 171,
   "metadata": {
    "colab": {
     "base_uri": "https://localhost:8080/",
     "height": 0
    },
    "colab_type": "code",
    "id": "uH8z2h8ENfyr",
    "outputId": "11b09d47-ba55-4ced-96f4-791eb655a268"
   },
   "outputs": [
    {
     "data": {
      "image/png": "[encoded data removed]",
      "text/plain": [
       "plot without title"
      ]
     },
     "metadata": {},
     "output_type": "display_data"
    }
   ],
   "source": [
    "# Definindo o nome da variável a ser analisada.\n",
    "\n",
    "col <- 'slope_of_the_peak'\n",
    "\n",
    "# Criando um gráfico de barras para a variável especificada.\n",
    "\n",
    "barPlot(col, data)"
   ]
  },
  {
   "cell_type": "markdown",
   "metadata": {
    "colab_type": "text",
    "id": "aM9Q8K__-pd-"
   },
   "source": [
    "Bom, o gráfico nos indica que a inclinação do *segmento ST* do pico do exercício e predominantemente **1** quando o indivíduo é sadio e **2 ou 3** quando apresenta alguma doença."
   ]
  },
  {
   "cell_type": "code",
   "execution_count": 172,
   "metadata": {
    "colab": {
     "base_uri": "https://localhost:8080/",
     "height": 0
    },
    "colab_type": "code",
    "id": "YC7ACfab9_9_",
    "outputId": "5de9dbcd-bdb7-4f7b-957e-aa2b758735f2"
   },
   "outputs": [
    {
     "data": {
      "text/html": [
       "<table>\n",
       "<thead><tr><th scope=col>slope_of_the_peak</th><th scope=col>count</th><th scope=col>prop</th></tr></thead>\n",
       "<tbody>\n",
       "\t<tr><td>1        </td><td>130      </td><td>48.148148</td></tr>\n",
       "\t<tr><td>2        </td><td>122      </td><td>45.185185</td></tr>\n",
       "\t<tr><td>3        </td><td> 18      </td><td> 6.666667</td></tr>\n",
       "</tbody>\n",
       "</table>\n"
      ],
      "text/latex": [
       "\\begin{tabular}{r|lll}\n",
       " slope\\_of\\_the\\_peak & count & prop\\\\\n",
       "\\hline\n",
       "\t 1         & 130       & 48.148148\\\\\n",
       "\t 2         & 122       & 45.185185\\\\\n",
       "\t 3         &  18       &  6.666667\\\\\n",
       "\\end{tabular}\n"
      ],
      "text/markdown": [
       "\n",
       "| slope_of_the_peak | count | prop |\n",
       "|---|---|---|\n",
       "| 1         | 130       | 48.148148 |\n",
       "| 2         | 122       | 45.185185 |\n",
       "| 3         |  18       |  6.666667 |\n",
       "\n"
      ],
      "text/plain": [
       "  slope_of_the_peak count prop     \n",
       "1 1                 130   48.148148\n",
       "2 2                 122   45.185185\n",
       "3 3                  18    6.666667"
      ]
     },
     "metadata": {},
     "output_type": "display_data"
    }
   ],
   "source": [
    "# Calculando algumas estatísticas para a variável especificada.\n",
    "\n",
    "stats <- varStats(col, data)\n",
    "\n",
    "# Verificando a distribuição de registros entre as classes da variável.\n",
    "\n",
    "stats$variableClasses"
   ]
  },
  {
   "cell_type": "markdown",
   "metadata": {
    "colab_type": "text",
    "id": "vyy_IGV0_KeS"
   },
   "source": [
    "A maior parte dos registros apresentam uma inclinação do *segmento ST* do pico do exercício com valor **1 ou 2**."
   ]
  },
  {
   "cell_type": "code",
   "execution_count": 173,
   "metadata": {
    "colab": {
     "base_uri": "https://localhost:8080/",
     "height": 0
    },
    "colab_type": "code",
    "id": "QUxJX94B9_-O",
    "outputId": "d4676312-ef65-4125-a0f1-64efcab34462"
   },
   "outputs": [
    {
     "data": {
      "text/html": [
       "<table>\n",
       "<thead><tr><th scope=col>slope_of_the_peak</th><th scope=col>heart_disease</th><th scope=col>count</th><th scope=col>prop</th></tr></thead>\n",
       "<tbody>\n",
       "\t<tr><td>1        </td><td>No       </td><td>98       </td><td>36.296296</td></tr>\n",
       "\t<tr><td>1        </td><td>Yes      </td><td>32       </td><td>11.851852</td></tr>\n",
       "\t<tr><td>2        </td><td>No       </td><td>44       </td><td>16.296296</td></tr>\n",
       "\t<tr><td>2        </td><td>Yes      </td><td>78       </td><td>28.888889</td></tr>\n",
       "\t<tr><td>3        </td><td>No       </td><td> 8       </td><td> 2.962963</td></tr>\n",
       "\t<tr><td>3        </td><td>Yes      </td><td>10       </td><td> 3.703704</td></tr>\n",
       "</tbody>\n",
       "</table>\n"
      ],
      "text/latex": [
       "\\begin{tabular}{r|llll}\n",
       " slope\\_of\\_the\\_peak & heart\\_disease & count & prop\\\\\n",
       "\\hline\n",
       "\t 1         & No        & 98        & 36.296296\\\\\n",
       "\t 1         & Yes       & 32        & 11.851852\\\\\n",
       "\t 2         & No        & 44        & 16.296296\\\\\n",
       "\t 2         & Yes       & 78        & 28.888889\\\\\n",
       "\t 3         & No        &  8        &  2.962963\\\\\n",
       "\t 3         & Yes       & 10        &  3.703704\\\\\n",
       "\\end{tabular}\n"
      ],
      "text/markdown": [
       "\n",
       "| slope_of_the_peak | heart_disease | count | prop |\n",
       "|---|---|---|---|\n",
       "| 1         | No        | 98        | 36.296296 |\n",
       "| 1         | Yes       | 32        | 11.851852 |\n",
       "| 2         | No        | 44        | 16.296296 |\n",
       "| 2         | Yes       | 78        | 28.888889 |\n",
       "| 3         | No        |  8        |  2.962963 |\n",
       "| 3         | Yes       | 10        |  3.703704 |\n",
       "\n"
      ],
      "text/plain": [
       "  slope_of_the_peak heart_disease count prop     \n",
       "1 1                 No            98    36.296296\n",
       "2 1                 Yes           32    11.851852\n",
       "3 2                 No            44    16.296296\n",
       "4 2                 Yes           78    28.888889\n",
       "5 3                 No             8     2.962963\n",
       "6 3                 Yes           10     3.703704"
      ]
     },
     "metadata": {},
     "output_type": "display_data"
    }
   ],
   "source": [
    "# Verificando a distribuição de registros entre as classes da variável especificada agrupadas pela variável alvo.\n",
    "\n",
    "stats$variableClassesGroupedByTargetVariable"
   ]
  },
  {
   "cell_type": "markdown",
   "metadata": {
    "colab_type": "text",
    "id": "DsTppAfBzjce"
   },
   "source": [
    "#### **3.4.13 Variável number_of_major_vessels**"
   ]
  },
  {
   "cell_type": "code",
   "execution_count": 174,
   "metadata": {
    "colab": {
     "base_uri": "https://localhost:8080/",
     "height": 0
    },
    "colab_type": "code",
    "id": "MXD82rCFNhlk",
    "outputId": "7b2f14e4-233b-453f-9cbb-147cbf8e0ca4"
   },
   "outputs": [
    {
     "data": {
      "image/png": "[encoded data removed]",
      "text/plain": [
       "plot without title"
      ]
     },
     "metadata": {},
     "output_type": "display_data"
    }
   ],
   "source": [
    "# Definindo o nome da variável a ser analisada.\n",
    "\n",
    "col <- 'number_of_major_vessels'\n",
    "\n",
    "# Criando um gráfico de barras para a variável especificada.\n",
    "\n",
    "barPlot(col, data)"
   ]
  },
  {
   "cell_type": "markdown",
   "metadata": {
    "colab_type": "text",
    "id": "OWqQdH-QAANQ"
   },
   "source": [
    "O gráfico gerado por está variável é bem interessante! Veja que a medida que o número de vasos principais coloridos por *flourosopy* aumenta, a proporção de indivíduos saudáveis diminuiu drasticamente.\n",
    "\n",
    "Vemos isso ao analisar a **coluna 0** e a **coluna 1**. Quando não há vasos principais coloridos por *flourosopy* o conjunto de dados é predominantemente de indivíduos sem doenças. Mas, basta que um vaso seja colorido para que essa predominância mude e os indivíduos com doenças passem a se destacar. "
   ]
  },
  {
   "cell_type": "code",
   "execution_count": 175,
   "metadata": {
    "colab": {
     "base_uri": "https://localhost:8080/",
     "height": 0
    },
    "colab_type": "code",
    "id": "9I9aUbA9ChSb",
    "outputId": "0640b066-4690-4378-d817-1b50850f6aa3"
   },
   "outputs": [
    {
     "data": {
      "text/html": [
       "<table>\n",
       "<thead><tr><th scope=col>number_of_major_vessels</th><th scope=col>count</th><th scope=col>prop</th></tr></thead>\n",
       "<tbody>\n",
       "\t<tr><td>0        </td><td>160      </td><td>59.259259</td></tr>\n",
       "\t<tr><td>1        </td><td> 58      </td><td>21.481481</td></tr>\n",
       "\t<tr><td>2        </td><td> 33      </td><td>12.222222</td></tr>\n",
       "\t<tr><td>3        </td><td> 19      </td><td> 7.037037</td></tr>\n",
       "</tbody>\n",
       "</table>\n"
      ],
      "text/latex": [
       "\\begin{tabular}{r|lll}\n",
       " number\\_of\\_major\\_vessels & count & prop\\\\\n",
       "\\hline\n",
       "\t 0         & 160       & 59.259259\\\\\n",
       "\t 1         &  58       & 21.481481\\\\\n",
       "\t 2         &  33       & 12.222222\\\\\n",
       "\t 3         &  19       &  7.037037\\\\\n",
       "\\end{tabular}\n"
      ],
      "text/markdown": [
       "\n",
       "| number_of_major_vessels | count | prop |\n",
       "|---|---|---|\n",
       "| 0         | 160       | 59.259259 |\n",
       "| 1         |  58       | 21.481481 |\n",
       "| 2         |  33       | 12.222222 |\n",
       "| 3         |  19       |  7.037037 |\n",
       "\n"
      ],
      "text/plain": [
       "  number_of_major_vessels count prop     \n",
       "1 0                       160   59.259259\n",
       "2 1                        58   21.481481\n",
       "3 2                        33   12.222222\n",
       "4 3                        19    7.037037"
      ]
     },
     "metadata": {},
     "output_type": "display_data"
    }
   ],
   "source": [
    "# Calculando algumas estatísticas para a variável especificada.\n",
    "\n",
    "stats <- varStats(col, data)\n",
    "\n",
    "# Verificando a distribuição de registros entre as classes da variável.\n",
    "\n",
    "stats$variableClasses"
   ]
  },
  {
   "cell_type": "markdown",
   "metadata": {
    "colab_type": "text",
    "id": "xAolNfObCvtt"
   },
   "source": [
    "Temos em aproximadamente **59.26%** dos registros indivíduos que **não possuem vasos coloridos por flourosopy**."
   ]
  },
  {
   "cell_type": "code",
   "execution_count": 176,
   "metadata": {
    "colab": {
     "base_uri": "https://localhost:8080/",
     "height": 0
    },
    "colab_type": "code",
    "id": "_7XRywznChSp",
    "outputId": "ab122534-31a3-460c-edfc-bd9940c82cc4"
   },
   "outputs": [
    {
     "data": {
      "text/html": [
       "<table>\n",
       "<thead><tr><th scope=col>number_of_major_vessels</th><th scope=col>heart_disease</th><th scope=col>count</th><th scope=col>prop</th></tr></thead>\n",
       "<tbody>\n",
       "\t<tr><td>0        </td><td>No       </td><td>120      </td><td>44.444444</td></tr>\n",
       "\t<tr><td>0        </td><td>Yes      </td><td> 40      </td><td>14.814815</td></tr>\n",
       "\t<tr><td>1        </td><td>No       </td><td> 20      </td><td> 7.407407</td></tr>\n",
       "\t<tr><td>1        </td><td>Yes      </td><td> 38      </td><td>14.074074</td></tr>\n",
       "\t<tr><td>2        </td><td>No       </td><td>  7      </td><td> 2.592593</td></tr>\n",
       "\t<tr><td>2        </td><td>Yes      </td><td> 26      </td><td> 9.629630</td></tr>\n",
       "\t<tr><td>3        </td><td>No       </td><td>  3      </td><td> 1.111111</td></tr>\n",
       "\t<tr><td>3        </td><td>Yes      </td><td> 16      </td><td> 5.925926</td></tr>\n",
       "</tbody>\n",
       "</table>\n"
      ],
      "text/latex": [
       "\\begin{tabular}{r|llll}\n",
       " number\\_of\\_major\\_vessels & heart\\_disease & count & prop\\\\\n",
       "\\hline\n",
       "\t 0         & No        & 120       & 44.444444\\\\\n",
       "\t 0         & Yes       &  40       & 14.814815\\\\\n",
       "\t 1         & No        &  20       &  7.407407\\\\\n",
       "\t 1         & Yes       &  38       & 14.074074\\\\\n",
       "\t 2         & No        &   7       &  2.592593\\\\\n",
       "\t 2         & Yes       &  26       &  9.629630\\\\\n",
       "\t 3         & No        &   3       &  1.111111\\\\\n",
       "\t 3         & Yes       &  16       &  5.925926\\\\\n",
       "\\end{tabular}\n"
      ],
      "text/markdown": [
       "\n",
       "| number_of_major_vessels | heart_disease | count | prop |\n",
       "|---|---|---|---|\n",
       "| 0         | No        | 120       | 44.444444 |\n",
       "| 0         | Yes       |  40       | 14.814815 |\n",
       "| 1         | No        |  20       |  7.407407 |\n",
       "| 1         | Yes       |  38       | 14.074074 |\n",
       "| 2         | No        |   7       |  2.592593 |\n",
       "| 2         | Yes       |  26       |  9.629630 |\n",
       "| 3         | No        |   3       |  1.111111 |\n",
       "| 3         | Yes       |  16       |  5.925926 |\n",
       "\n"
      ],
      "text/plain": [
       "  number_of_major_vessels heart_disease count prop     \n",
       "1 0                       No            120   44.444444\n",
       "2 0                       Yes            40   14.814815\n",
       "3 1                       No             20    7.407407\n",
       "4 1                       Yes            38   14.074074\n",
       "5 2                       No              7    2.592593\n",
       "6 2                       Yes            26    9.629630\n",
       "7 3                       No              3    1.111111\n",
       "8 3                       Yes            16    5.925926"
      ]
     },
     "metadata": {},
     "output_type": "display_data"
    }
   ],
   "source": [
    "# Verificando a distribuição de registros entre as classes da variável especificada agrupadas pela variável alvo.\n",
    "\n",
    "stats$variableClassesGroupedByTargetVariable"
   ]
  },
  {
   "cell_type": "markdown",
   "metadata": {
    "colab_type": "text",
    "id": "HtwWZ7ZbDS2b"
   },
   "source": [
    "Veja atentamente está tabela! \n",
    "\n",
    "Quando o número de vasos principais coloridos por *flourosopy* é 0, a proporção de indivíduos sadios é **3 vezes maior** do que a de doentes.\n",
    "\n",
    "Quando o número de vasos principais coloridos por *flourosopy* é 1, a predominância muda e a proporção de indivíduos doentes se torna **2 vezes maior** do que a dos sadios."
   ]
  },
  {
   "cell_type": "markdown",
   "metadata": {
    "colab_type": "text",
    "id": "KrDNVAWtzjkt"
   },
   "source": [
    "#### **3.4.14 Variável thal**"
   ]
  },
  {
   "cell_type": "code",
   "execution_count": 177,
   "metadata": {
    "colab": {
     "base_uri": "https://localhost:8080/",
     "height": 0
    },
    "colab_type": "code",
    "id": "oIlFxGS9NjWF",
    "outputId": "55ec6791-7a99-4825-cf8f-578c44a9d7a2"
   },
   "outputs": [
    {
     "data": {
      "image/png": "[encoded data removed]",
      "text/plain": [
       "plot without title"
      ]
     },
     "metadata": {},
     "output_type": "display_data"
    }
   ],
   "source": [
    "# Definindo o nome da variável a ser analisada.\n",
    "\n",
    "col <- 'thal'\n",
    "\n",
    "# Criando um gráfico de barras para a variável especificada.\n",
    "\n",
    "barPlot(col, data)"
   ]
  },
  {
   "cell_type": "markdown",
   "metadata": {
    "colab_type": "text",
    "id": "NnBUPHK9Fh_v"
   },
   "source": [
    "Detectamos que predominantemente a maior parte dos indivíduos saudáveis apresenta um resutlado **normal** para o teste de stress com tálio. Porém, quando o resultado é um **defeito fixo** ou um **defeito reversível** a predominância é de indivíduos com problemas cardíacos."
   ]
  },
  {
   "cell_type": "code",
   "execution_count": 178,
   "metadata": {
    "colab": {
     "base_uri": "https://localhost:8080/",
     "height": 0
    },
    "colab_type": "code",
    "id": "eK7a4beXFAbw",
    "outputId": "13475a0c-28c8-4a7a-beff-4a6fcbeaca21"
   },
   "outputs": [
    {
     "data": {
      "text/html": [
       "<table>\n",
       "<thead><tr><th scope=col>thal</th><th scope=col>count</th><th scope=col>prop</th></tr></thead>\n",
       "<tbody>\n",
       "\t<tr><td>Normal           </td><td>152              </td><td>56.296296        </td></tr>\n",
       "\t<tr><td>Fixed defect     </td><td> 14              </td><td> 5.185185        </td></tr>\n",
       "\t<tr><td>Reversable defect</td><td>104              </td><td>38.518519        </td></tr>\n",
       "</tbody>\n",
       "</table>\n"
      ],
      "text/latex": [
       "\\begin{tabular}{r|lll}\n",
       " thal & count & prop\\\\\n",
       "\\hline\n",
       "\t Normal            & 152               & 56.296296        \\\\\n",
       "\t Fixed defect      &  14               &  5.185185        \\\\\n",
       "\t Reversable defect & 104               & 38.518519        \\\\\n",
       "\\end{tabular}\n"
      ],
      "text/markdown": [
       "\n",
       "| thal | count | prop |\n",
       "|---|---|---|\n",
       "| Normal            | 152               | 56.296296         |\n",
       "| Fixed defect      |  14               |  5.185185         |\n",
       "| Reversable defect | 104               | 38.518519         |\n",
       "\n"
      ],
      "text/plain": [
       "  thal              count prop     \n",
       "1 Normal            152   56.296296\n",
       "2 Fixed defect       14    5.185185\n",
       "3 Reversable defect 104   38.518519"
      ]
     },
     "metadata": {},
     "output_type": "display_data"
    }
   ],
   "source": [
    "# Calculando algumas estatísticas para a variável especificada.\n",
    "\n",
    "stats <- varStats(col, data)\n",
    "\n",
    "# Verificando a distribuição de registros entre as classes da variável.\n",
    "\n",
    "stats$variableClasses"
   ]
  },
  {
   "cell_type": "markdown",
   "metadata": {
    "colab_type": "text",
    "id": "6ms4N-syGlGA"
   },
   "source": [
    "Cerca de **56.3%** dos registros dos indivíduos apresentou um resultado **normal**."
   ]
  },
  {
   "cell_type": "code",
   "execution_count": 179,
   "metadata": {
    "colab": {
     "base_uri": "https://localhost:8080/",
     "height": 0
    },
    "colab_type": "code",
    "id": "Di8PQoaMFAb3",
    "outputId": "32d8d1c3-ff6b-4baf-b859-fad391faa1cf"
   },
   "outputs": [
    {
     "data": {
      "text/html": [
       "<table>\n",
       "<thead><tr><th scope=col>thal</th><th scope=col>heart_disease</th><th scope=col>count</th><th scope=col>prop</th></tr></thead>\n",
       "<tbody>\n",
       "\t<tr><td>Normal           </td><td>No               </td><td>119              </td><td>44.074074        </td></tr>\n",
       "\t<tr><td>Normal           </td><td>Yes              </td><td> 33              </td><td>12.222222        </td></tr>\n",
       "\t<tr><td>Fixed defect     </td><td>No               </td><td>  6              </td><td> 2.222222        </td></tr>\n",
       "\t<tr><td>Fixed defect     </td><td>Yes              </td><td>  8              </td><td> 2.962963        </td></tr>\n",
       "\t<tr><td>Reversable defect</td><td>No               </td><td> 25              </td><td> 9.259259        </td></tr>\n",
       "\t<tr><td>Reversable defect</td><td>Yes              </td><td> 79              </td><td>29.259259        </td></tr>\n",
       "</tbody>\n",
       "</table>\n"
      ],
      "text/latex": [
       "\\begin{tabular}{r|llll}\n",
       " thal & heart\\_disease & count & prop\\\\\n",
       "\\hline\n",
       "\t Normal            & No                & 119               & 44.074074        \\\\\n",
       "\t Normal            & Yes               &  33               & 12.222222        \\\\\n",
       "\t Fixed defect      & No                &   6               &  2.222222        \\\\\n",
       "\t Fixed defect      & Yes               &   8               &  2.962963        \\\\\n",
       "\t Reversable defect & No                &  25               &  9.259259        \\\\\n",
       "\t Reversable defect & Yes               &  79               & 29.259259        \\\\\n",
       "\\end{tabular}\n"
      ],
      "text/markdown": [
       "\n",
       "| thal | heart_disease | count | prop |\n",
       "|---|---|---|---|\n",
       "| Normal            | No                | 119               | 44.074074         |\n",
       "| Normal            | Yes               |  33               | 12.222222         |\n",
       "| Fixed defect      | No                |   6               |  2.222222         |\n",
       "| Fixed defect      | Yes               |   8               |  2.962963         |\n",
       "| Reversable defect | No                |  25               |  9.259259         |\n",
       "| Reversable defect | Yes               |  79               | 29.259259         |\n",
       "\n"
      ],
      "text/plain": [
       "  thal              heart_disease count prop     \n",
       "1 Normal            No            119   44.074074\n",
       "2 Normal            Yes            33   12.222222\n",
       "3 Fixed defect      No              6    2.222222\n",
       "4 Fixed defect      Yes             8    2.962963\n",
       "5 Reversable defect No             25    9.259259\n",
       "6 Reversable defect Yes            79   29.259259"
      ]
     },
     "metadata": {},
     "output_type": "display_data"
    }
   ],
   "source": [
    "# Verificando a distribuição de registros entre as classes da variável especificada agrupadas pela variável alvo.\n",
    "\n",
    "stats$variableClassesGroupedByTargetVariable"
   ]
  },
  {
   "cell_type": "markdown",
   "metadata": {
    "colab_type": "text",
    "id": "o-infel9zj2l"
   },
   "source": [
    "#### **3.4.15 Variável heart_disease**"
   ]
  },
  {
   "cell_type": "code",
   "execution_count": 180,
   "metadata": {
    "colab": {
     "base_uri": "https://localhost:8080/",
     "height": 0
    },
    "colab_type": "code",
    "id": "BGddcdrqNkao",
    "outputId": "e164639f-3c64-4e05-c913-afc844094196"
   },
   "outputs": [
    {
     "data": {
      "image/png": "[encoded data removed]",
      "text/plain": [
       "plot without title"
      ]
     },
     "metadata": {},
     "output_type": "display_data"
    }
   ],
   "source": [
    "# Definindo o nome da variável a ser analisada.\n",
    "\n",
    "col <- 'heart_disease'\n",
    "\n",
    "# Criando um gráfico de barras para a variável especificada.\n",
    "\n",
    "barPlot(col, data)"
   ]
  },
  {
   "cell_type": "markdown",
   "metadata": {
    "colab_type": "text",
    "id": "HjT66OfuHCIk"
   },
   "source": [
    "Detectamos um desbalanceamento entre as classes da variável preditora."
   ]
  },
  {
   "cell_type": "code",
   "execution_count": 181,
   "metadata": {
    "colab": {
     "base_uri": "https://localhost:8080/",
     "height": 0
    },
    "colab_type": "code",
    "id": "AFAio0RlG7Nb",
    "outputId": "0891075f-9dcf-46c4-a897-8fd81790f8eb"
   },
   "outputs": [
    {
     "data": {
      "text/html": [
       "<table>\n",
       "<thead><tr><th scope=col>heart_disease</th><th scope=col>count</th><th scope=col>prop</th></tr></thead>\n",
       "<tbody>\n",
       "\t<tr><td>No      </td><td>150     </td><td>55.55556</td></tr>\n",
       "\t<tr><td>Yes     </td><td>120     </td><td>44.44444</td></tr>\n",
       "</tbody>\n",
       "</table>\n"
      ],
      "text/latex": [
       "\\begin{tabular}{r|lll}\n",
       " heart\\_disease & count & prop\\\\\n",
       "\\hline\n",
       "\t No       & 150      & 55.55556\\\\\n",
       "\t Yes      & 120      & 44.44444\\\\\n",
       "\\end{tabular}\n"
      ],
      "text/markdown": [
       "\n",
       "| heart_disease | count | prop |\n",
       "|---|---|---|\n",
       "| No       | 150      | 55.55556 |\n",
       "| Yes      | 120      | 44.44444 |\n",
       "\n"
      ],
      "text/plain": [
       "  heart_disease count prop    \n",
       "1 No            150   55.55556\n",
       "2 Yes           120   44.44444"
      ]
     },
     "metadata": {},
     "output_type": "display_data"
    }
   ],
   "source": [
    "# Calculando algumas estatísticas para a variável especificada.\n",
    "\n",
    "stats <- varStats(col, data)\n",
    "\n",
    "# Verificando a distribuição de registros entre as classes da variável.\n",
    "\n",
    "stats$variableClasses"
   ]
  },
  {
   "cell_type": "markdown",
   "metadata": {
    "colab_type": "text",
    "id": "HVO9jr7AHLL5"
   },
   "source": [
    "Deveremos tratar este desbalanceamento antes de prosseguir para a análise preditiva."
   ]
  },
  {
   "cell_type": "markdown",
   "metadata": {
    "colab_type": "text",
    "id": "osV4BCBPBySD"
   },
   "source": [
    "## **4. Data Munging II - Preparando dados para a modelagem preditiva**"
   ]
  },
  {
   "cell_type": "markdown",
   "metadata": {
    "colab_type": "text",
    "id": "HcXrFYTnCejw"
   },
   "source": [
    "### **4.1 Importando bibliotecas necessárias**"
   ]
  },
  {
   "cell_type": "markdown",
   "metadata": {
    "colab_type": "text",
    "id": "l7XnMC86LU3d"
   },
   "source": [
    " Importaremos todas as bilbiotecas necessárias para a realização das etapas de modelagem preditiva."
   ]
  },
  {
   "cell_type": "code",
   "execution_count": null,
   "metadata": {
    "colab": {
     "base_uri": "https://localhost:8080/",
     "height": 0
    },
    "colab_type": "code",
    "id": "d3oAqyensWe4",
    "outputId": "951560c8-3059-4fe5-a9cd-26a3983704ec"
   },
   "outputs": [],
   "source": [
    "# Caso não possua uma das bibliotecas importadas abaixo, a instale com o comando a seguir:\n",
    "\n",
    "install.packages(c(\n",
    "    'xgboost',\n",
    "    'MLmetrics',\n",
    "    'ROSE', \n",
    "    'DMwR',\n",
    "    'caret',\n",
    "    'randomForest',\n",
    "    'C50',\n",
    "    'fastAdaboost'\n",
    "))"
   ]
  },
  {
   "cell_type": "code",
   "execution_count": 183,
   "metadata": {
    "colab": {
     "base_uri": "https://localhost:8080/",
     "height": 0
    },
    "colab_type": "code",
    "id": "IEjW9n-QxKJO",
    "outputId": "3331c791-bdf0-4fb2-f211-850cf39985b0"
   },
   "outputs": [],
   "source": [
    "# Importando bibliotecas.\n",
    "\n",
    "library(xgboost)\n",
    "library(MLmetrics)\n",
    "library(caret)\n",
    "library(randomForest)\n",
    "library(C50)\n",
    "library(fastAdaboost)\n",
    "library(ROSE)\n",
    "library(DMwR)"
   ]
  },
  {
   "cell_type": "markdown",
   "metadata": {
    "colab_type": "text",
    "id": "ij9ep8r_pata"
   },
   "source": [
    "### **4.2 Preparando dados para modelagem preditiva**"
   ]
  },
  {
   "cell_type": "markdown",
   "metadata": {
    "colab_type": "text",
    "id": "SNG-4eAPHd5o"
   },
   "source": [
    "Muito bem, como a maior parte dos algoritmos de *Machine Learning* trabalham melhor com variáveis númericas, iremos criar uma nova cópia do conjunto de dados sem qualquer uma das modificações que implementamos para executar a fase de exploração de dados. "
   ]
  },
  {
   "cell_type": "code",
   "execution_count": 184,
   "metadata": {
    "colab": {},
    "colab_type": "code",
    "id": "wpNt9Q7-GZcB"
   },
   "outputs": [],
   "source": [
    "# Carregando dataset não modificado.\n",
    "\n",
    "data <- dataset"
   ]
  },
  {
   "cell_type": "markdown",
   "metadata": {
    "colab_type": "text",
    "id": "nb9ARhkAIQOj"
   },
   "source": [
    "Como estamos trabalhando com um problema de classificação, converteremos a variável a ser prevista para o tipo *factor*. Caso algum algoritmo solicite um ajuste específico para manipular o conjunto de dados, faremos a modificação de forma temporária para gerar o modelo em questão e não alterar as variáveis do dataset. "
   ]
  },
  {
   "cell_type": "code",
   "execution_count": 185,
   "metadata": {
    "colab": {},
    "colab_type": "code",
    "id": "l6PZZRn0xkHL"
   },
   "outputs": [],
   "source": [
    "# Convertendo a variável a ser prevista para o tipo factor.\n",
    "\n",
    "data$heart_disease <- as.factor(data$heart_disease)"
   ]
  },
  {
   "cell_type": "markdown",
   "metadata": {
    "colab_type": "text",
    "id": "LHKChsX3Jdge"
   },
   "source": [
    "Vamos balancear o número de registros em cada uma das classes da variável alvo. Isso é necessário para evitarmos que o modelo aprenda a identificar corretamente mais uma classe do que outra."
   ]
  },
  {
   "cell_type": "code",
   "execution_count": 186,
   "metadata": {
    "colab": {},
    "colab_type": "code",
    "id": "KDdwmohqJDmS"
   },
   "outputs": [],
   "source": [
    "# Definindo um seed para permitir que o balanceamento sempre gere o mesmo resultado e possa ser reproduzível.\n",
    "\n",
    "set.seed(100)\n",
    "\n",
    "# Aplicando a técnica SMOTE para balancear o número de registros pertencentes a cada classe da variável alvo.\n",
    "\n",
    "data <- SMOTE(heart_disease ~., data = data, perc.over = 200, k = 5, perc.under = 155)"
   ]
  },
  {
   "cell_type": "code",
   "execution_count": 187,
   "metadata": {
    "colab": {
     "base_uri": "https://localhost:8080/",
     "height": 68
    },
    "colab_type": "code",
    "id": "fAMCKDP9fbrI",
    "outputId": "77ae073a-f471-4a6f-ef05-96882608092b"
   },
   "outputs": [
    {
     "data": {
      "text/plain": [
       "\n",
       "        1         2 \n",
       "0.5081967 0.4918033 "
      ]
     },
     "metadata": {},
     "output_type": "display_data"
    }
   ],
   "source": [
    "# Verificando a proporção de registros em cada uma das classes da variável alvo.\n",
    "\n",
    "prop.table(table(data$heart_disease))"
   ]
  },
  {
   "cell_type": "markdown",
   "metadata": {
    "colab_type": "text",
    "id": "4ASnGrgyM3_d"
   },
   "source": [
    "Perfeito! Temos aproximadamente 50% de registros em cada uma das classes da variável a ser prevista.\n",
    "\n",
    "A próxima etapa que iremos efetuar é a escalar os valores das variáveis preditoras entre 0 e 1."
   ]
  },
  {
   "cell_type": "code",
   "execution_count": 188,
   "metadata": {
    "colab": {
     "base_uri": "https://localhost:8080/",
     "height": 224
    },
    "colab_type": "code",
    "id": "WvXlcu09MzYd",
    "outputId": "cdab7812-dc09-4a22-9354-e37eca54ff8a"
   },
   "outputs": [
    {
     "data": {
      "text/html": [
       "<table>\n",
       "<thead><tr><th></th><th scope=col>age</th><th scope=col>sex</th><th scope=col>chest_pain_type</th><th scope=col>resting_blood_pressure</th><th scope=col>serum_cholestoral</th><th scope=col>fasting_blood_sugar</th><th scope=col>resting_electro_results</th><th scope=col>max_heart_rate_achieved</th><th scope=col>exercise_induced_angina</th><th scope=col>oldpeak</th><th scope=col>slope_of_the_peak</th><th scope=col>number_of_major_vessels</th><th scope=col>thal</th><th scope=col>heart_disease</th></tr></thead>\n",
       "<tbody>\n",
       "\t<tr><th scope=row>136</th><td>0.2790698</td><td>0        </td><td>0.6666667</td><td>0.4528302</td><td>0.1164384</td><td>0        </td><td>1        </td><td>0.7177419</td><td>1        </td><td>0.2258065</td><td>1.0      </td><td>0        </td><td>0        </td><td>1        </td></tr>\n",
       "\t<tr><th scope=row>78</th><td>0.1162791</td><td>0        </td><td>0.6666667</td><td>0.0000000</td><td>0.1666667</td><td>0        </td><td>0        </td><td>0.8709677</td><td>0        </td><td>0.0000000</td><td>0.0      </td><td>0        </td><td>0        </td><td>1        </td></tr>\n",
       "\t<tr><th scope=row>63</th><td>0.2325581</td><td>1        </td><td>0.6666667</td><td>0.2452830</td><td>0.2283105</td><td>0        </td><td>0        </td><td>0.7903226</td><td>0        </td><td>0.0000000</td><td>0.0      </td><td>0        </td><td>0        </td><td>1        </td></tr>\n",
       "\t<tr><th scope=row>261</th><td>0.5581395</td><td>0        </td><td>0.6666667</td><td>0.2452830</td><td>0.4885845</td><td>0        </td><td>0        </td><td>0.8145161</td><td>0        </td><td>0.0000000</td><td>0.0      </td><td>0        </td><td>0        </td><td>1        </td></tr>\n",
       "\t<tr><th scope=row>84</th><td>0.1627907</td><td>1        </td><td>0.6666667</td><td>0.3396226</td><td>0.2009132</td><td>0        </td><td>1        </td><td>0.7822581</td><td>0        </td><td>0.3225806</td><td>0.5      </td><td>0        </td><td>0        </td><td>1        </td></tr>\n",
       "\t<tr><th scope=row>139</th><td>0.0000000</td><td>0        </td><td>0.3333333</td><td>0.2264151</td><td>0.1917808</td><td>0        </td><td>0        </td><td>0.9758065</td><td>0        </td><td>0.1129032</td><td>0.0      </td><td>0        </td><td>0        </td><td>1        </td></tr>\n",
       "</tbody>\n",
       "</table>\n"
      ],
      "text/latex": [
       "\\begin{tabular}{r|llllllllllllll}\n",
       "  & age & sex & chest\\_pain\\_type & resting\\_blood\\_pressure & serum\\_cholestoral & fasting\\_blood\\_sugar & resting\\_electro\\_results & max\\_heart\\_rate\\_achieved & exercise\\_induced\\_angina & oldpeak & slope\\_of\\_the\\_peak & number\\_of\\_major\\_vessels & thal & heart\\_disease\\\\\n",
       "\\hline\n",
       "\t136 & 0.2790698 & 0         & 0.6666667 & 0.4528302 & 0.1164384 & 0         & 1         & 0.7177419 & 1         & 0.2258065 & 1.0       & 0         & 0         & 1        \\\\\n",
       "\t78 & 0.1162791 & 0         & 0.6666667 & 0.0000000 & 0.1666667 & 0         & 0         & 0.8709677 & 0         & 0.0000000 & 0.0       & 0         & 0         & 1        \\\\\n",
       "\t63 & 0.2325581 & 1         & 0.6666667 & 0.2452830 & 0.2283105 & 0         & 0         & 0.7903226 & 0         & 0.0000000 & 0.0       & 0         & 0         & 1        \\\\\n",
       "\t261 & 0.5581395 & 0         & 0.6666667 & 0.2452830 & 0.4885845 & 0         & 0         & 0.8145161 & 0         & 0.0000000 & 0.0       & 0         & 0         & 1        \\\\\n",
       "\t84 & 0.1627907 & 1         & 0.6666667 & 0.3396226 & 0.2009132 & 0         & 1         & 0.7822581 & 0         & 0.3225806 & 0.5       & 0         & 0         & 1        \\\\\n",
       "\t139 & 0.0000000 & 0         & 0.3333333 & 0.2264151 & 0.1917808 & 0         & 0         & 0.9758065 & 0         & 0.1129032 & 0.0       & 0         & 0         & 1        \\\\\n",
       "\\end{tabular}\n"
      ],
      "text/markdown": [
       "\n",
       "| <!--/--> | age | sex | chest_pain_type | resting_blood_pressure | serum_cholestoral | fasting_blood_sugar | resting_electro_results | max_heart_rate_achieved | exercise_induced_angina | oldpeak | slope_of_the_peak | number_of_major_vessels | thal | heart_disease |\n",
       "|---|---|---|---|---|---|---|---|---|---|---|---|---|---|---|\n",
       "| 136 | 0.2790698 | 0         | 0.6666667 | 0.4528302 | 0.1164384 | 0         | 1         | 0.7177419 | 1         | 0.2258065 | 1.0       | 0         | 0         | 1         |\n",
       "| 78 | 0.1162791 | 0         | 0.6666667 | 0.0000000 | 0.1666667 | 0         | 0         | 0.8709677 | 0         | 0.0000000 | 0.0       | 0         | 0         | 1         |\n",
       "| 63 | 0.2325581 | 1         | 0.6666667 | 0.2452830 | 0.2283105 | 0         | 0         | 0.7903226 | 0         | 0.0000000 | 0.0       | 0         | 0         | 1         |\n",
       "| 261 | 0.5581395 | 0         | 0.6666667 | 0.2452830 | 0.4885845 | 0         | 0         | 0.8145161 | 0         | 0.0000000 | 0.0       | 0         | 0         | 1         |\n",
       "| 84 | 0.1627907 | 1         | 0.6666667 | 0.3396226 | 0.2009132 | 0         | 1         | 0.7822581 | 0         | 0.3225806 | 0.5       | 0         | 0         | 1         |\n",
       "| 139 | 0.0000000 | 0         | 0.3333333 | 0.2264151 | 0.1917808 | 0         | 0         | 0.9758065 | 0         | 0.1129032 | 0.0       | 0         | 0         | 1         |\n",
       "\n"
      ],
      "text/plain": [
       "    age       sex chest_pain_type resting_blood_pressure serum_cholestoral\n",
       "136 0.2790698 0   0.6666667       0.4528302              0.1164384        \n",
       "78  0.1162791 0   0.6666667       0.0000000              0.1666667        \n",
       "63  0.2325581 1   0.6666667       0.2452830              0.2283105        \n",
       "261 0.5581395 0   0.6666667       0.2452830              0.4885845        \n",
       "84  0.1627907 1   0.6666667       0.3396226              0.2009132        \n",
       "139 0.0000000 0   0.3333333       0.2264151              0.1917808        \n",
       "    fasting_blood_sugar resting_electro_results max_heart_rate_achieved\n",
       "136 0                   1                       0.7177419              \n",
       "78  0                   0                       0.8709677              \n",
       "63  0                   0                       0.7903226              \n",
       "261 0                   0                       0.8145161              \n",
       "84  0                   1                       0.7822581              \n",
       "139 0                   0                       0.9758065              \n",
       "    exercise_induced_angina oldpeak   slope_of_the_peak number_of_major_vessels\n",
       "136 1                       0.2258065 1.0               0                      \n",
       "78  0                       0.0000000 0.0               0                      \n",
       "63  0                       0.0000000 0.0               0                      \n",
       "261 0                       0.0000000 0.0               0                      \n",
       "84  0                       0.3225806 0.5               0                      \n",
       "139 0                       0.1129032 0.0               0                      \n",
       "    thal heart_disease\n",
       "136 0    1            \n",
       "78  0    1            \n",
       "63  0    1            \n",
       "261 0    1            \n",
       "84  0    1            \n",
       "139 0    1            "
      ]
     },
     "metadata": {},
     "output_type": "display_data"
    }
   ],
   "source": [
    "# Definindo método de pré-processamento.\n",
    "\n",
    "params <- preProcess(data %>% select(- heart_disease), method = 'range')\n",
    "\n",
    "# Transformando os dados.\n",
    "\n",
    "data <- predict(params, data)\n",
    "\n",
    "# Visualizando as primeiras linhas do dataset.\n",
    "\n",
    "head(data)"
   ]
  },
  {
   "cell_type": "markdown",
   "metadata": {
    "colab_type": "text",
    "id": "Nv3aKEn6gQt0"
   },
   "source": [
    "## **5. Modelagem Preditiva**"
   ]
  },
  {
   "cell_type": "markdown",
   "metadata": {
    "colab_type": "text",
    "id": "nUmLoWYqCoHi"
   },
   "source": [
    "### **5.1 Criando dados de treino e de teste**"
   ]
  },
  {
   "cell_type": "markdown",
   "metadata": {
    "colab_type": "text",
    "id": "ytR-VPgl8D_k"
   },
   "source": [
    "Para iniciar a modelagem preditiva, devemos criar os dados de treino e de teste."
   ]
  },
  {
   "cell_type": "code",
   "execution_count": 189,
   "metadata": {
    "colab": {},
    "colab_type": "code",
    "id": "bvYtSvWR789x"
   },
   "outputs": [],
   "source": [
    "# Definindo um seed.\n",
    "\n",
    "set.seed(100)\n",
    "\n",
    "# Criando as partições com dados de treino e de teste.\n",
    "\n",
    "inTrain <- createDataPartition(data$heart_disease, p = .80, list = F)\n",
    "\n",
    "# Segmentando dados de treino e de teste por partição.\n",
    "\n",
    "train <- data[inTrain, ]\n",
    "test  <- data[-inTrain, ]"
   ]
  },
  {
   "cell_type": "markdown",
   "metadata": {
    "colab_type": "text",
    "id": "y4pDNPTICx08"
   },
   "source": [
    "### **5.2 Avaliando a importância das variáveis com o algoritmo Random Forest**"
   ]
  },
  {
   "cell_type": "markdown",
   "metadata": {
    "colab_type": "text",
    "id": "Uy1OtgizNf70"
   },
   "source": [
    "Antes de iniciarmos a criação dos modelos propriamente dita, é interessante definirmos o quanto cada variável dentro do dataset ajuda a prever o valor da variável *target*.\n",
    "\n",
    "Para fazermos isto, utilizaremos o algoritmo **Random Forest** para computar tais valores. Como não sabemos qual o ajuste de parâmetros do algoritmo é mais adequado para o nosso conjunto de dados, criaremos modelos que possuam de 1 a 100 árvores com 1 a 100 nós.\n",
    "\n",
    "Salvaremos a acurárica de cada modelo em um Dataframe. Note que por ser um processo de treinamento que tende a demandar muito tempo para ser processado, salvaremos os resultados obtidos em um arquivo CSV que pode ser carregado com todos os resultados gerados pelo bloco de código a seguir. "
   ]
  },
  {
   "cell_type": "code",
   "execution_count": null,
   "metadata": {
    "colab": {
     "base_uri": "https://localhost:8080/",
     "height": 1000
    },
    "colab_type": "code",
    "id": "k_eH2Doqr3I1",
    "outputId": "0e8a307a-778c-40bf-fbd1-45a270924adf"
   },
   "outputs": [],
   "source": [
    "# Criando o dataframe para salvar os resultados dos modelos.\n",
    "\n",
    "featuresRF <- data.frame()\n",
    "\n",
    "# Definindo o número de nós e árvores a serem combinados para a criação de diferentes modelos.\n",
    "\n",
    "nTrees <- 1:100\n",
    "nNodes <- 1:100\n",
    "\n",
    "# Define o número total de modelos a serem criados.\n",
    "\n",
    "total <- length(nTrees) * length(nNodes)\n",
    "\n",
    "# Define uma varíavel auxiliar para permitir o acompanhamento do progresso na avaliação dos modelos criados.\n",
    "\n",
    "count <- 0\n",
    "\n",
    "for(t in nTrees) {\n",
    "    \n",
    "  for(n in nNodes) {\n",
    "    \n",
    "    # Define um seed para permitir que os mesmos resultados dos experimentos sejam reproduzíveis.\n",
    "    \n",
    "    set.seed(100)\n",
    "    \n",
    "    # Cria o modelo Random Forest a ser avaliado.\n",
    "\n",
    "    model <- randomForest(heart_disease ~ .,\n",
    "                          data       = train, \n",
    "                          ntree      = t, \n",
    "                          nodesize   = n, \n",
    "                          importance = T)\n",
    "    \n",
    "    # Computa a Confusion Matrix gerada a partir do modelo criado.\n",
    "\n",
    "    cm <- confusionMatrix(table(\n",
    "        data      = model$y, \n",
    "        reference = model$predicted\n",
    "    ))\n",
    "    \n",
    "    # Armazena os parâmetros utilizados para criação do modelo e a acurácia obtida no dataframe.\n",
    "\n",
    "    featuresRF <- rbind(featuresRF, data.frame(\n",
    "        nodes    = n, \n",
    "        nTree    = t, \n",
    "        accuracy = unname(cm$overall['Accuracy'])\n",
    "    ))\n",
    "    \n",
    "    # Incrementa o número de modelos avaliados.\n",
    "\n",
    "    count <- count + 1\n",
    "\n",
    "    # Imprime a porcetagem de progresso do treinamento e a melhor acurácia já alcançada.\n",
    "\n",
    "    print(paste(100 * count / total, '%, best accuracy: ', max(featuresRF$accuracy)))\n",
    "  }\n",
    "}\n",
    "\n",
    "# Salvando dataframe com os resultados gerados em um arquivo .csv.\n",
    "\n",
    "write.csv(featuresRF, 'content/outputs/featuresRF.csv')"
   ]
  },
  {
   "cell_type": "markdown",
   "metadata": {
    "colab_type": "text",
    "id": "omrwDX8iOtM2"
   },
   "source": [
    "Caso deseje pular a execução do bloco de código anterior, basta carregar os resultados já processados que estão salvos no arquivo CSV abaixo:"
   ]
  },
  {
   "cell_type": "code",
   "execution_count": 191,
   "metadata": {
    "colab": {},
    "colab_type": "code",
    "id": "gWqrtbE-Otcl"
   },
   "outputs": [],
   "source": [
    "# Carregando dataframe com os resultados obtidos para cada modelo Random Forest criado.\n",
    "\n",
    "featuresRF <- read.csv('content/outputs/featuresRF.csv')"
   ]
  },
  {
   "cell_type": "markdown",
   "metadata": {
    "colab_type": "text",
    "id": "gY6znl98PTki"
   },
   "source": [
    "Imprimiremos os registros dos modelos que apresentaram a melhor acurácia."
   ]
  },
  {
   "cell_type": "code",
   "execution_count": 192,
   "metadata": {
    "colab": {
     "base_uri": "https://localhost:8080/",
     "height": 99
    },
    "colab_type": "code",
    "id": "mSXX77EWxmwc",
    "outputId": "c42a2f93-2680-409f-d908-5ada2751649b"
   },
   "outputs": [
    {
     "data": {
      "text/html": [
       "<table>\n",
       "<thead><tr><th></th><th scope=col>X</th><th scope=col>nodes</th><th scope=col>nTree</th><th scope=col>accuracy</th></tr></thead>\n",
       "<tbody>\n",
       "\t<tr><th scope=row>5101</th><td>5101     </td><td>1        </td><td>52       </td><td>0.9658703</td></tr>\n",
       "</tbody>\n",
       "</table>\n"
      ],
      "text/latex": [
       "\\begin{tabular}{r|llll}\n",
       "  & X & nodes & nTree & accuracy\\\\\n",
       "\\hline\n",
       "\t5101 & 5101      & 1         & 52        & 0.9658703\\\\\n",
       "\\end{tabular}\n"
      ],
      "text/markdown": [
       "\n",
       "| <!--/--> | X | nodes | nTree | accuracy |\n",
       "|---|---|---|---|---|\n",
       "| 5101 | 5101      | 1         | 52        | 0.9658703 |\n",
       "\n"
      ],
      "text/plain": [
       "     X    nodes nTree accuracy \n",
       "5101 5101 1     52    0.9658703"
      ]
     },
     "metadata": {},
     "output_type": "display_data"
    }
   ],
   "source": [
    "# Imprimindo registros dos modelos que alcançaram a maior acurácia.\n",
    "\n",
    "bestRF <- featuresRF[featuresRF$accuracy == max(featuresRF$accuracy), ]\n",
    "\n",
    "bestRF "
   ]
  },
  {
   "cell_type": "markdown",
   "metadata": {
    "colab_type": "text",
    "id": "g_UZpqdEPctl"
   },
   "source": [
    "Caso mais de um modelo apresente a maior acurácia registrada dentro do dataset, selecionaremos o primeiro que foi listado para ser utilizado nas etapas seguintes."
   ]
  },
  {
   "cell_type": "code",
   "execution_count": 193,
   "metadata": {
    "colab": {},
    "colab_type": "code",
    "id": "ScEkJVH58tKA"
   },
   "outputs": [],
   "source": [
    "# Selecionando o primeiro registro dentro do dataframe.\n",
    "\n",
    "bestRF <- bestRF[1,]"
   ]
  },
  {
   "cell_type": "markdown",
   "metadata": {
    "colab_type": "text",
    "id": "w_Kb56YkUNHp"
   },
   "source": [
    "Recriaremos este modelo e imprimiremos suas estatísticas."
   ]
  },
  {
   "cell_type": "code",
   "execution_count": 194,
   "metadata": {
    "colab": {
     "base_uri": "https://localhost:8080/",
     "height": 221
    },
    "colab_type": "code",
    "id": "86fmcXaDxw76",
    "outputId": "981030c4-3f0e-4584-daf3-3dbb79bf38a9"
   },
   "outputs": [
    {
     "data": {
      "text/plain": [
       "\n",
       "Call:\n",
       " randomForest(formula = heart_disease ~ ., data = train, ntree = bestRF[,      \"nTree\"], nodesize = bestRF[, \"nodes\"], importance = T) \n",
       "               Type of random forest: classification\n",
       "                     Number of trees: 52\n",
       "No. of variables tried at each split: 3\n",
       "\n",
       "        OOB estimate of  error rate: 3.41%\n",
       "Confusion matrix:\n",
       "    1   2 class.error\n",
       "1 293   5  0.01677852\n",
       "2  15 273  0.05208333"
      ]
     },
     "metadata": {},
     "output_type": "display_data"
    }
   ],
   "source": [
    "# Define um seed para permitir que o mesmo resultado do experimento seja reproduzível.\n",
    "\n",
    "set.seed(100)\n",
    "\n",
    "# Criando modelo.\n",
    "\n",
    "model <- randomForest(heart_disease ~ .,\n",
    "                      data       = train, \n",
    "                      ntree      = bestRF[, 'nTree'], \n",
    "                      nodesize   = bestRF[, 'nodes'], \n",
    "                      importance = T\n",
    "         )\n",
    "                      \n",
    "# Imprimindo o modelo.\n",
    "\n",
    "model"
   ]
  },
  {
   "cell_type": "markdown",
   "metadata": {
    "colab_type": "text",
    "id": "Y4mEMMdtUbna"
   },
   "source": [
    "Agora podemos plotar o modelo em um gráfico e verificar o nível de importância das variáveis do dataset para prever a variável alvo."
   ]
  },
  {
   "cell_type": "code",
   "execution_count": 195,
   "metadata": {
    "colab": {
     "base_uri": "https://localhost:8080/",
     "height": 437
    },
    "colab_type": "code",
    "id": "lyjrshCYxz0l",
    "outputId": "846a95ff-2c3b-48a1-e811-4bab24097c59"
   },
   "outputs": [
    {
     "data": {
      "image/png": "[encoded data removed]",
      "text/plain": [
       "plot without title"
      ]
     },
     "metadata": {},
     "output_type": "display_data"
    }
   ],
   "source": [
    "# Plotando gráfico para visualizar o nível de importância de cada variável no processo de predição da variável alvo.\n",
    "\n",
    "v <- as.data.frame(varImpPlot(model, main = 'Predictor variables'))"
   ]
  },
  {
   "cell_type": "markdown",
   "metadata": {
    "colab_type": "text",
    "id": "yTGPz70qEbIY"
   },
   "source": [
    "### **5.3 Feature Selection**"
   ]
  },
  {
   "cell_type": "markdown",
   "metadata": {
    "colab_type": "text",
    "id": "sUrKLAxYW4sL"
   },
   "source": [
    "Bom, vamos considerar a medida **MeanDecreaseAccuracy** calculada na fase anterior. Sabemos que as variáveis mais importantes para prever a variável alvo são aquelas que apresentam os maiores valores para esta grandeza.\n",
    "\n",
    "Sendo assim, iremos eliminar as 3 variáveis preditoras com os menores valores de importância. Como o gráfico anterior nos mostra, são elas: **sex**, **resting_electro_results**, **fasting_blood_sugar**."
   ]
  },
  {
   "cell_type": "code",
   "execution_count": 196,
   "metadata": {
    "colab": {},
    "colab_type": "code",
    "id": "bb8DeydoZckV"
   },
   "outputs": [],
   "source": [
    "# Definindo um vetor com o nome das variáveis que devem ser desconsideras pelo modelo a ser treinado.\n",
    "\n",
    "d <- c('sex', 'resting_electro_results', 'fasting_blood_sugar', 'heart_disease')\n",
    "\n",
    "# Definindo fórmula a ser utilizada pelo modelo a ser treinado.\n",
    "\n",
    "f <- heart_disease ~ . - sex - resting_electro_results - fasting_blood_sugar"
   ]
  },
  {
   "cell_type": "markdown",
   "metadata": {
    "colab_type": "text",
    "id": "WlU0Dn1E6qRi"
   },
   "source": [
    "### **5.4 Criando modelos**"
   ]
  },
  {
   "cell_type": "markdown",
   "metadata": {
    "colab_type": "text",
    "id": "ESCdrHr87Alc"
   },
   "source": [
    "#### **5.4.1 Modelo Random Forest**"
   ]
  },
  {
   "cell_type": "code",
   "execution_count": 197,
   "metadata": {
    "colab": {
     "base_uri": "https://localhost:8080/",
     "height": 221
    },
    "colab_type": "code",
    "id": "F1c7jsp8x34B",
    "outputId": "89e24ba6-7043-4fc3-f582-90bbcb541b26"
   },
   "outputs": [
    {
     "data": {
      "text/plain": [
       "\n",
       "Call:\n",
       " randomForest(formula = heart_disease ~ ., data = train, ntree = bestRF[,      \"nTree\"], nodesize = bestRF[, \"nodes\"]) \n",
       "               Type of random forest: classification\n",
       "                     Number of trees: 52\n",
       "No. of variables tried at each split: 3\n",
       "\n",
       "        OOB estimate of  error rate: 4.44%\n",
       "Confusion matrix:\n",
       "    1   2 class.error\n",
       "1 291   7  0.02348993\n",
       "2  19 269  0.06597222"
      ]
     },
     "metadata": {},
     "output_type": "display_data"
    }
   ],
   "source": [
    "# Define um seed para permitir que o mesmo resultado do experimento seja reproduzível.\n",
    "\n",
    "set.seed(100)\n",
    "\n",
    "# Criando modelo.\n",
    "\n",
    "model_rf <- randomForest(heart_disease ~ .,\n",
    "                      data       = train, \n",
    "                      ntree      = bestRF[, 'nTree'], \n",
    "                      nodesize   = bestRF[, 'nodes']\n",
    "         )\n",
    "                      \n",
    "# Imprimindo o modelo.\n",
    "\n",
    "model_rf"
   ]
  },
  {
   "cell_type": "code",
   "execution_count": 198,
   "metadata": {
    "colab": {},
    "colab_type": "code",
    "id": "19GteDbA2LPD"
   },
   "outputs": [],
   "source": [
    "# Realizando as previsões com o modelo baseado no algoritmo Random Forest.\n",
    "\n",
    "pred <- predict(model_rf, test)"
   ]
  },
  {
   "cell_type": "code",
   "execution_count": 199,
   "metadata": {
    "colab": {
     "base_uri": "https://localhost:8080/",
     "height": 476
    },
    "colab_type": "code",
    "id": "8tPYPfpf2SPJ",
    "outputId": "9b220b96-2e2f-44f6-9748-2f06f7904f0e"
   },
   "outputs": [
    {
     "data": {
      "text/plain": [
       "Confusion Matrix and Statistics\n",
       "\n",
       "    data\n",
       "pred  1  2\n",
       "   1 73  9\n",
       "   2  1 63\n",
       "                                          \n",
       "               Accuracy : 0.9315          \n",
       "                 95% CI : (0.8776, 0.9667)\n",
       "    No Information Rate : 0.5068          \n",
       "    P-Value [Acc > NIR] : < 2e-16         \n",
       "                                          \n",
       "                  Kappa : 0.8628          \n",
       "                                          \n",
       " Mcnemar's Test P-Value : 0.02686         \n",
       "                                          \n",
       "            Sensitivity : 0.9865          \n",
       "            Specificity : 0.8750          \n",
       "         Pos Pred Value : 0.8902          \n",
       "         Neg Pred Value : 0.9844          \n",
       "             Prevalence : 0.5068          \n",
       "         Detection Rate : 0.5000          \n",
       "   Detection Prevalence : 0.5616          \n",
       "      Balanced Accuracy : 0.9307          \n",
       "                                          \n",
       "       'Positive' Class : 1               \n",
       "                                          "
      ]
     },
     "metadata": {},
     "output_type": "display_data"
    }
   ],
   "source": [
    "# Criando a Confusion Matrix a partir das previsões.  \n",
    "\n",
    "cm <- confusionMatrix(table(pred = pred, data = test$heart_disease))\n",
    "\n",
    "# Visualizando a Confusion Matrix.\n",
    "\n",
    "cm"
   ]
  },
  {
   "cell_type": "code",
   "execution_count": 200,
   "metadata": {
    "colab": {
     "base_uri": "https://localhost:8080/",
     "height": 34
    },
    "colab_type": "code",
    "id": "1KlBL63U2WnD",
    "outputId": "41cfc6e0-7aab-49e2-cfe2-4e8083c8eac9"
   },
   "outputs": [
    {
     "data": {
      "text/html": [
       "-17.0332155578667"
      ],
      "text/latex": [
       "-17.0332155578667"
      ],
      "text/markdown": [
       "-17.0332155578667"
      ],
      "text/plain": [
       "[1] -17.03322"
      ]
     },
     "metadata": {},
     "output_type": "display_data"
    }
   ],
   "source": [
    "# Calculando o valor da métrica Logloss para o modelo.\n",
    "\n",
    "logloss <- LogLoss(as.numeric(pred), as.numeric(test$heart_disease))\n",
    "\n",
    "# Exibe o valor da métrica.\n",
    "\n",
    "logloss"
   ]
  },
  {
   "cell_type": "markdown",
   "metadata": {
    "colab_type": "text",
    "id": "o5zZpL4XbO2j"
   },
   "source": [
    "Perfeito, nosso primeiro modelo foi criado! Vamos salvar os scores de sua *acurácia* e de sua métrica *Logloss* em um dataframe."
   ]
  },
  {
   "cell_type": "code",
   "execution_count": 201,
   "metadata": {
    "colab": {},
    "colab_type": "code",
    "id": "tCXmG-WghfPd"
   },
   "outputs": [],
   "source": [
    "# Salvando scores das métricas analisadas em um dataframe.\n",
    "\n",
    "scoreModels <- data.frame(accuracy = unname(cm$overall['Accuracy']), logloss = logloss, row.names = 'randomForest')"
   ]
  },
  {
   "cell_type": "markdown",
   "metadata": {
    "colab_type": "text",
    "id": "7IrRKb4L7RAw"
   },
   "source": [
    "#### **5.4.2 Modelo C 5.0**"
   ]
  },
  {
   "cell_type": "code",
   "execution_count": 202,
   "metadata": {
    "colab": {
     "base_uri": "https://localhost:8080/",
     "height": 116
    },
    "colab_type": "code",
    "id": "OGRfGlbv0H-P",
    "outputId": "1ac47794-f5b4-48ed-ea1b-46288b723348"
   },
   "outputs": [
    {
     "data": {
      "text/html": [
       "<table>\n",
       "<thead><tr><th></th><th scope=col>No</th><th scope=col>Yes</th></tr></thead>\n",
       "<tbody>\n",
       "\t<tr><th scope=row>No</th><td>0.0</td><td>0.5</td></tr>\n",
       "\t<tr><th scope=row>Yes</th><td>0.5</td><td>0.0</td></tr>\n",
       "</tbody>\n",
       "</table>\n"
      ],
      "text/latex": [
       "\\begin{tabular}{r|ll}\n",
       "  & No & Yes\\\\\n",
       "\\hline\n",
       "\tNo & 0.0 & 0.5\\\\\n",
       "\tYes & 0.5 & 0.0\\\\\n",
       "\\end{tabular}\n"
      ],
      "text/markdown": [
       "\n",
       "| <!--/--> | No | Yes |\n",
       "|---|---|---|\n",
       "| No | 0.0 | 0.5 |\n",
       "| Yes | 0.5 | 0.0 |\n",
       "\n"
      ],
      "text/plain": [
       "    No  Yes\n",
       "No  0.0 0.5\n",
       "Yes 0.5 0.0"
      ]
     },
     "metadata": {},
     "output_type": "display_data"
    }
   ],
   "source": [
    "# Definindo a matriz de custos a ser utilizada pelo modelo.\n",
    "\n",
    "cost <- matrix(c(0, 0.5, 0.5, 0), nrow = 2, dimnames = list(c(\"No\", \"Yes\"), c(\"No\", \"Yes\")))\n",
    "\n",
    "# Visualizando a matriz.\n",
    "\n",
    "cost"
   ]
  },
  {
   "cell_type": "code",
   "execution_count": 203,
   "metadata": {
    "colab": {},
    "colab_type": "code",
    "id": "repJJbME0SX8"
   },
   "outputs": [],
   "source": [
    "# Criando o modelo baseado no algoritmo C 5.0.\n",
    "\n",
    "model_c50 <-  C5.0(f, data = train, trials = 100, cost = cost)"
   ]
  },
  {
   "cell_type": "code",
   "execution_count": 204,
   "metadata": {
    "colab": {},
    "colab_type": "code",
    "id": "-PXy7yE-0TAk"
   },
   "outputs": [],
   "source": [
    "# Realizando as previsões com o modelo baseado no algoritmo C 5.0.\n",
    "\n",
    "pred <- predict(model_c50, test)"
   ]
  },
  {
   "cell_type": "code",
   "execution_count": 205,
   "metadata": {
    "colab": {
     "base_uri": "https://localhost:8080/",
     "height": 476
    },
    "colab_type": "code",
    "id": "SnUplbK40XNr",
    "outputId": "6f4a245b-52da-4c58-db8f-9054d73b0058"
   },
   "outputs": [
    {
     "data": {
      "text/plain": [
       "Confusion Matrix and Statistics\n",
       "\n",
       "    data\n",
       "pred  1  2\n",
       "   1 73  6\n",
       "   2  1 66\n",
       "                                          \n",
       "               Accuracy : 0.9521          \n",
       "                 95% CI : (0.9037, 0.9805)\n",
       "    No Information Rate : 0.5068          \n",
       "    P-Value [Acc > NIR] : <2e-16          \n",
       "                                          \n",
       "                  Kappa : 0.904           \n",
       "                                          \n",
       " Mcnemar's Test P-Value : 0.1306          \n",
       "                                          \n",
       "            Sensitivity : 0.9865          \n",
       "            Specificity : 0.9167          \n",
       "         Pos Pred Value : 0.9241          \n",
       "         Neg Pred Value : 0.9851          \n",
       "             Prevalence : 0.5068          \n",
       "         Detection Rate : 0.5000          \n",
       "   Detection Prevalence : 0.5411          \n",
       "      Balanced Accuracy : 0.9516          \n",
       "                                          \n",
       "       'Positive' Class : 1               \n",
       "                                          "
      ]
     },
     "metadata": {},
     "output_type": "display_data"
    }
   ],
   "source": [
    "# Criando a Confusion Matrix a partir das previsões.  \n",
    "\n",
    "cm <- confusionMatrix(table(pred = pred, data = test$heart_disease))\n",
    "\n",
    "# Visualizando a Confusion Matrix.\n",
    "\n",
    "cm"
   ]
  },
  {
   "cell_type": "code",
   "execution_count": 206,
   "metadata": {
    "colab": {
     "base_uri": "https://localhost:8080/",
     "height": 34
    },
    "colab_type": "code",
    "id": "l5I1BWLH0g9R",
    "outputId": "09379959-c191-452f-ef10-4deecf6241a7"
   },
   "outputs": [
    {
     "data": {
      "text/html": [
       "-17.0332155578667"
      ],
      "text/latex": [
       "-17.0332155578667"
      ],
      "text/markdown": [
       "-17.0332155578667"
      ],
      "text/plain": [
       "[1] -17.03322"
      ]
     },
     "metadata": {},
     "output_type": "display_data"
    }
   ],
   "source": [
    "# Calculando o valor da métrica LogLoss para o modelo.\n",
    "\n",
    "logloss <- LogLoss(as.numeric(pred), as.numeric(test$heart_disease))\n",
    "\n",
    "# Exibe o valor da métrica.\n",
    "\n",
    "logloss"
   ]
  },
  {
   "cell_type": "code",
   "execution_count": 207,
   "metadata": {
    "colab": {},
    "colab_type": "code",
    "id": "cPGExkPKiZpR"
   },
   "outputs": [],
   "source": [
    "# Salvando scores das métricas analisadas em um dataframe.\n",
    "\n",
    "scoreModels <- rbind(scoreModels, data.frame(accuracy = unname(cm$overall['Accuracy']), logloss = logloss, row.names = 'C5.0'))"
   ]
  },
  {
   "cell_type": "markdown",
   "metadata": {
    "colab_type": "text",
    "id": "cFv4Dq7S7YNW"
   },
   "source": [
    "#### **5.4.3 Modelo Adaboost**"
   ]
  },
  {
   "cell_type": "code",
   "execution_count": 208,
   "metadata": {
    "colab": {},
    "colab_type": "code",
    "id": "GNMowU4L0yLX"
   },
   "outputs": [],
   "source": [
    "# Criando o modelo baseado no algoritmo Adaboost.\n",
    "\n",
    "model_adaboost <-  adaboost(formula = f, data = train, nIter = 21)"
   ]
  },
  {
   "cell_type": "code",
   "execution_count": 209,
   "metadata": {
    "colab": {},
    "colab_type": "code",
    "id": "3zIwFa7w07gV"
   },
   "outputs": [],
   "source": [
    "# Realizando as previsões com o modelo baseado no algoritmo Adaboost.\n",
    "\n",
    "pred <- predict(model_adaboost, test, type = 'class')"
   ]
  },
  {
   "cell_type": "code",
   "execution_count": 210,
   "metadata": {
    "colab": {
     "base_uri": "https://localhost:8080/",
     "height": 476
    },
    "colab_type": "code",
    "id": "R_3kiR9p0-sT",
    "outputId": "5e3c6fb4-777e-45f2-ffe1-74551a94cad8"
   },
   "outputs": [
    {
     "data": {
      "text/plain": [
       "Confusion Matrix and Statistics\n",
       "\n",
       "    data\n",
       "pred  1  2\n",
       "   1 74  5\n",
       "   2  0 67\n",
       "                                          \n",
       "               Accuracy : 0.9658          \n",
       "                 95% CI : (0.9219, 0.9888)\n",
       "    No Information Rate : 0.5068          \n",
       "    P-Value [Acc > NIR] : < 2e-16         \n",
       "                                          \n",
       "                  Kappa : 0.9314          \n",
       "                                          \n",
       " Mcnemar's Test P-Value : 0.07364         \n",
       "                                          \n",
       "            Sensitivity : 1.0000          \n",
       "            Specificity : 0.9306          \n",
       "         Pos Pred Value : 0.9367          \n",
       "         Neg Pred Value : 1.0000          \n",
       "             Prevalence : 0.5068          \n",
       "         Detection Rate : 0.5068          \n",
       "   Detection Prevalence : 0.5411          \n",
       "      Balanced Accuracy : 0.9653          \n",
       "                                          \n",
       "       'Positive' Class : 1               \n",
       "                                          "
      ]
     },
     "metadata": {},
     "output_type": "display_data"
    }
   ],
   "source": [
    "# Criando a Confusion Matrix a partir das previsões.  \n",
    "\n",
    "cm <- confusionMatrix(table(pred = pred$class, data = test$heart_disease))\n",
    "\n",
    "# Visualizando a Confusion Matrix.\n",
    "\n",
    "cm"
   ]
  },
  {
   "cell_type": "code",
   "execution_count": 211,
   "metadata": {
    "colab": {
     "base_uri": "https://localhost:8080/",
     "height": 34
    },
    "colab_type": "code",
    "id": "kiwnSXeh1BCQ",
    "outputId": "fc535436-87e6-4b4c-89ac-d41527a8734f"
   },
   "outputs": [
    {
     "data": {
      "text/html": [
       "-17.0332155578667"
      ],
      "text/latex": [
       "-17.0332155578667"
      ],
      "text/markdown": [
       "-17.0332155578667"
      ],
      "text/plain": [
       "[1] -17.03322"
      ]
     },
     "metadata": {},
     "output_type": "display_data"
    }
   ],
   "source": [
    "# Calculando o valor da métrica LogLoss para o modelo.\n",
    "\n",
    "logloss <- LogLoss(as.numeric(pred$class), as.numeric(test$heart_disease))\n",
    "\n",
    "# Exibe o valor da métrica.\n",
    "\n",
    "logloss"
   ]
  },
  {
   "cell_type": "code",
   "execution_count": 212,
   "metadata": {
    "colab": {},
    "colab_type": "code",
    "id": "JaG_ZP5tjVet"
   },
   "outputs": [],
   "source": [
    "# Salvando scores das métricas analisadas em um dataframe.\n",
    "\n",
    "scoreModels <- rbind(scoreModels, data.frame(accuracy = unname(cm$overall['Accuracy']), logloss = logloss, row.names = 'adaboost'))"
   ]
  },
  {
   "cell_type": "markdown",
   "metadata": {
    "colab_type": "text",
    "id": "U6_buipk7dIm"
   },
   "source": [
    "#### **5.4.4 Modelo XGboost**"
   ]
  },
  {
   "cell_type": "code",
   "execution_count": 213,
   "metadata": {
    "colab": {
     "base_uri": "https://localhost:8080/",
     "height": 272
    },
    "colab_type": "code",
    "id": "f0sjOAPmgeYk",
    "outputId": "4f4a5885-72a9-46cc-87e8-91f5f7ab759c"
   },
   "outputs": [
    {
     "name": "stdout",
     "output_type": "stream",
     "text": [
      "[1]\ttrain-logloss:0.246064 \n",
      "[2]\ttrain-logloss:0.130332 \n",
      "[3]\ttrain-logloss:0.087831 \n",
      "[4]\ttrain-logloss:0.064753 \n",
      "[5]\ttrain-logloss:0.051350 \n",
      "[6]\ttrain-logloss:0.042103 \n",
      "[7]\ttrain-logloss:0.036274 \n",
      "[8]\ttrain-logloss:0.030612 \n",
      "[9]\ttrain-logloss:0.027692 \n",
      "[10]\ttrain-logloss:0.024471 \n",
      "[11]\ttrain-logloss:0.022729 \n",
      "[12]\ttrain-logloss:0.021313 \n",
      "[13]\ttrain-logloss:0.020104 \n",
      "[14]\ttrain-logloss:0.018320 \n",
      "[15]\ttrain-logloss:0.016963 \n"
     ]
    }
   ],
   "source": [
    "# Criando o modelo baseado no algoritmo XGboost.\n",
    "\n",
    "  model_xgboost <- xgboost(\n",
    "      data      = as.matrix(train %>% select(-d)) ,               # Define as variáveis preditoras.\n",
    "      label     = as.matrix(as.integer(train$heart_disease) - 1), # Define a variável target.\n",
    "      max.depth = 20,                                             # Define o tamanho máximo da árvore.\n",
    "      eta       = 1,                                              # Define a taxa de aprendizado do modelo.\n",
    "      nthread   = 4,                                              # Define o número de threads que devem ser usadas. Quanto maior for esse número, mais rápido será o treinamento.\n",
    "      nrounds   = 15,                                             # Define o número de iterações.\n",
    "      objective = \"binary:logistic\",                              # Define que o modelo deve ser baseado em uma regressão logistica binária.\n",
    "      verbose   = T,                                              # Define a exibição da queda da taxa de erro durante o treinamento.\n",
    "      eval_metric = 'logloss'                                     # Define a função de avaliação a ser utilizada.\n",
    ")"
   ]
  },
  {
   "cell_type": "code",
   "execution_count": 214,
   "metadata": {
    "colab": {},
    "colab_type": "code",
    "id": "JB1gBc_4g219"
   },
   "outputs": [],
   "source": [
    "# Realizando as previsões com o modelo baseado no algoritmo XGboost.\n",
    "\n",
    "pred <- predict(model_xgboost, as.matrix(test %>% select(-d)))"
   ]
  },
  {
   "cell_type": "code",
   "execution_count": 215,
   "metadata": {
    "colab": {},
    "colab_type": "code",
    "id": "N_3kwdVXg6zz"
   },
   "outputs": [],
   "source": [
    "# Definindo o threshold.\n",
    "\n",
    "th <- 0.5\n",
    "\n",
    "# Classificando os resultados segundo o threshold especificado.\n",
    "\n",
    "predClass <- ifelse(pred > th, 1, 0)"
   ]
  },
  {
   "cell_type": "code",
   "execution_count": 216,
   "metadata": {
    "colab": {
     "base_uri": "https://localhost:8080/",
     "height": 476
    },
    "colab_type": "code",
    "id": "GDKb-B2Fg9i4",
    "outputId": "b539503e-d0b9-4754-faaa-1ae4518f4543"
   },
   "outputs": [
    {
     "data": {
      "text/plain": [
       "Confusion Matrix and Statistics\n",
       "\n",
       "    data\n",
       "pred  0  1\n",
       "   0 74  5\n",
       "   1  0 67\n",
       "                                          \n",
       "               Accuracy : 0.9658          \n",
       "                 95% CI : (0.9219, 0.9888)\n",
       "    No Information Rate : 0.5068          \n",
       "    P-Value [Acc > NIR] : < 2e-16         \n",
       "                                          \n",
       "                  Kappa : 0.9314          \n",
       "                                          \n",
       " Mcnemar's Test P-Value : 0.07364         \n",
       "                                          \n",
       "            Sensitivity : 1.0000          \n",
       "            Specificity : 0.9306          \n",
       "         Pos Pred Value : 0.9367          \n",
       "         Neg Pred Value : 1.0000          \n",
       "             Prevalence : 0.5068          \n",
       "         Detection Rate : 0.5068          \n",
       "   Detection Prevalence : 0.5411          \n",
       "      Balanced Accuracy : 0.9653          \n",
       "                                          \n",
       "       'Positive' Class : 0               \n",
       "                                          "
      ]
     },
     "metadata": {},
     "output_type": "display_data"
    }
   ],
   "source": [
    "# Criando a Confusion Matrix a partir das previsões.  \n",
    "\n",
    "cm <- confusionMatrix(table(pred = predClass, data = as.matrix(as.integer(test$heart_disease) - 1)))\n",
    "\n",
    "# Visualizando a Confusion Matrix.\n",
    "\n",
    "cm"
   ]
  },
  {
   "cell_type": "code",
   "execution_count": 217,
   "metadata": {
    "colab": {
     "base_uri": "https://localhost:8080/",
     "height": 34
    },
    "colab_type": "code",
    "id": "GPZUvtc7rAM2",
    "outputId": "2c73c464-7814-4324-e093-cb1f6e268b88"
   },
   "outputs": [
    {
     "data": {
      "text/html": [
       "0.183855570571959"
      ],
      "text/latex": [
       "0.183855570571959"
      ],
      "text/markdown": [
       "0.183855570571959"
      ],
      "text/plain": [
       "[1] 0.1838556"
      ]
     },
     "metadata": {},
     "output_type": "display_data"
    }
   ],
   "source": [
    "# Calculando o valor da métrica LogLoss para o modelo.\n",
    "\n",
    "logloss <- LogLoss(as.numeric(pred), as.matrix(as.integer(test$heart_disease) - 1))\n",
    "\n",
    "# Exibe o valor da métrica.\n",
    "\n",
    "logloss"
   ]
  },
  {
   "cell_type": "code",
   "execution_count": 218,
   "metadata": {
    "colab": {},
    "colab_type": "code",
    "id": "4fHDTH2fj5ky"
   },
   "outputs": [],
   "source": [
    "# Salvando scores das métricas analisadas em um dataframe.\n",
    "\n",
    "scoreModels <- rbind(scoreModels, data.frame(accuracy = unname(cm$overall['Accuracy']), logloss = logloss, row.names = 'XGboost'))"
   ]
  },
  {
   "cell_type": "markdown",
   "metadata": {
    "colab_type": "text",
    "id": "QM9bSY0tf2-k"
   },
   "source": [
    "#### **5.4.5 Determinando o melhor modelo**"
   ]
  },
  {
   "cell_type": "markdown",
   "metadata": {
    "colab_type": "text",
    "id": "-od1cjjhgBau"
   },
   "source": [
    "Determinaremos qual modelo teve o melhor desempenho para o conjunto de dados de treino a partir do score da métrica **LogLoss** e da **acurácia** gerados por cada um."
   ]
  },
  {
   "cell_type": "code",
   "execution_count": 219,
   "metadata": {
    "colab": {
     "base_uri": "https://localhost:8080/",
     "height": 162
    },
    "colab_type": "code",
    "id": "ISD1Kr6ef8mA",
    "outputId": "41213227-4611-465d-bbfe-17d4f8d97c16"
   },
   "outputs": [
    {
     "data": {
      "text/html": [
       "<table>\n",
       "<thead><tr><th></th><th scope=col>accuracy</th><th scope=col>logloss</th></tr></thead>\n",
       "<tbody>\n",
       "\t<tr><th scope=row>randomForest</th><td>0.9315068  </td><td>-17.0332156</td></tr>\n",
       "\t<tr><th scope=row>C5.0</th><td>0.9520548  </td><td>-17.0332156</td></tr>\n",
       "\t<tr><th scope=row>adaboost</th><td>0.9657534  </td><td>-17.0332156</td></tr>\n",
       "\t<tr><th scope=row>XGboost</th><td>0.9657534  </td><td>  0.1838556</td></tr>\n",
       "</tbody>\n",
       "</table>\n"
      ],
      "text/latex": [
       "\\begin{tabular}{r|ll}\n",
       "  & accuracy & logloss\\\\\n",
       "\\hline\n",
       "\trandomForest & 0.9315068   & -17.0332156\\\\\n",
       "\tC5.0 & 0.9520548   & -17.0332156\\\\\n",
       "\tadaboost & 0.9657534   & -17.0332156\\\\\n",
       "\tXGboost & 0.9657534   &   0.1838556\\\\\n",
       "\\end{tabular}\n"
      ],
      "text/markdown": [
       "\n",
       "| <!--/--> | accuracy | logloss |\n",
       "|---|---|---|\n",
       "| randomForest | 0.9315068   | -17.0332156 |\n",
       "| C5.0 | 0.9520548   | -17.0332156 |\n",
       "| adaboost | 0.9657534   | -17.0332156 |\n",
       "| XGboost | 0.9657534   |   0.1838556 |\n",
       "\n"
      ],
      "text/plain": [
       "             accuracy  logloss    \n",
       "randomForest 0.9315068 -17.0332156\n",
       "C5.0         0.9520548 -17.0332156\n",
       "adaboost     0.9657534 -17.0332156\n",
       "XGboost      0.9657534   0.1838556"
      ]
     },
     "metadata": {},
     "output_type": "display_data"
    }
   ],
   "source": [
    "# Exibindo dataframe com as métricas de performance dos modelos treinados.\n",
    "\n",
    "scoreModels"
   ]
  },
  {
   "cell_type": "code",
   "execution_count": 220,
   "metadata": {
    "colab": {
     "base_uri": "https://localhost:8080/",
     "height": 99
    },
    "colab_type": "code",
    "id": "zFy7IIVUkY9Y",
    "outputId": "1c65b2fc-35d9-4ef4-815b-03e819e72daf"
   },
   "outputs": [
    {
     "data": {
      "text/html": [
       "<table>\n",
       "<thead><tr><th></th><th scope=col>accuracy</th><th scope=col>logloss</th></tr></thead>\n",
       "<tbody>\n",
       "\t<tr><th scope=row>adaboost</th><td>0.9657534</td><td>-17.03322</td></tr>\n",
       "</tbody>\n",
       "</table>\n"
      ],
      "text/latex": [
       "\\begin{tabular}{r|ll}\n",
       "  & accuracy & logloss\\\\\n",
       "\\hline\n",
       "\tadaboost & 0.9657534 & -17.03322\\\\\n",
       "\\end{tabular}\n"
      ],
      "text/markdown": [
       "\n",
       "| <!--/--> | accuracy | logloss |\n",
       "|---|---|---|\n",
       "| adaboost | 0.9657534 | -17.03322 |\n",
       "\n"
      ],
      "text/plain": [
       "         accuracy  logloss  \n",
       "adaboost 0.9657534 -17.03322"
      ]
     },
     "metadata": {},
     "output_type": "display_data"
    }
   ],
   "source": [
    "# Determinando o modelo que teve o maior score para a acurácia e o menor score para a métrica LogLoss.\n",
    "\n",
    "scoreModels[scoreModels$accuracy == max(scoreModels$accuracy) & scoreModels$logloss == min(scoreModels$logloss), ]"
   ]
  },
  {
   "cell_type": "markdown",
   "metadata": {
    "colab_type": "text",
    "id": "fIlLZBw5e7Mv"
   },
   "source": [
    "Por fim, concluímos que o algoritmo que obteve a melhor performance para os critérios que adotamos foi o **Adaboost**."
   ]
  },
  {
   "cell_type": "markdown",
   "metadata": {
    "colab_type": "text",
    "id": "fMcitPkemOqe"
   },
   "source": [
    "# **Entre em contato comigo!**"
   ]
  },
  {
   "cell_type": "markdown",
   "metadata": {
    "colab_type": "text",
    "id": "jfmuYm8UmQ1u"
   },
   "source": [
    "Caso tenha alguma dúvida, sugestão ou apenas queira trocar uma ideia sobre este projeto, não hesite em entrar em contato comigo!"
   ]
  },
  {
   "cell_type": "markdown",
   "metadata": {
    "colab_type": "text",
    "id": "k39JXj4ZmXYe"
   },
   "source": [
    "<table align='center'>\n",
    "    <tr style=\" background-color: rgba(0,0,0,0);\">\n",
    "        <td>\n",
    "            <img src=\"https://image.flaticon.com/icons/svg/732/732026.svg\" alt=\"Email\" height=\"42\" width=\"42\">\n",
    "        </td>\n",
    "        <td>\n",
    "            <p>\n",
    "                <a href=\"mailto:franklinfs390@gmail.com\">E-mail</href>\n",
    "            </p>\n",
    "        </td>\n",
    "    <td>\n",
    "            <img src=\"https://image.flaticon.com/icons/svg/254/254394.svg\" alt=\"Linkedin\" height=\"42\" width=\"42\">\n",
    "    </td>\n",
    "    <td>\n",
    "        <p>\n",
    "            <a href=\"https://www.linkedin.com/in/franklinfs390/\">Linkedin</href>\n",
    "        </p>\n",
    "    </td>\n",
    "    <td>\n",
    "        <img src=\"https://image.flaticon.com/icons/svg/2111/2111432.svg\" alt=\"Github\" height=\"42\" width=\"42\">\n",
    "    </td>\n",
    "    <td>\n",
    "        <p>\n",
    "            <a href=\"https://github.com/franklin390\">Github</href>\n",
    "        </p>\n",
    "    </td>\n",
    "  </tr>\n",
    "</table>\n"
   ]
  }
 ],
 "metadata": {
  "colab": {
   "collapsed_sections": [
    "68jxmhy5DlRd",
    "Sk2ZgFdeDv_d",
    "84jVPpvkw6sJ",
    "H_jAe30syEkb",
    "WdSliZCyyKB7",
    "Uofd2zWJyVsl",
    "XvqfKGJgycSN",
    "sOsp8qzKyiB7",
    "jjlBr2tsymcC",
    "26fVL-K8ysjI",
    "bmnzwI3iyxR8",
    "S0Vs_8o6zjLP",
    "-TpWtETczjUJ",
    "DsTppAfBzjce",
    "KrDNVAWtzjkt",
    "o-infel9zj2l",
    "HcXrFYTnCejw"
   ],
   "name": "Challenge Project 02 - Warm Up: Machine Learning with a Heart.ipynb",
   "provenance": [],
   "toc_visible": true
  },
  "kernelspec": {
   "display_name": "R",
   "language": "R",
   "name": "ir"
  },
  "language_info": {
   "codemirror_mode": "r",
   "file_extension": ".r",
   "mimetype": "text/x-r-source",
   "name": "R",
   "pygments_lexer": "r",
   "version": "3.6.1"
  }
 },
 "nbformat": 4,
 "nbformat_minor": 4
}
